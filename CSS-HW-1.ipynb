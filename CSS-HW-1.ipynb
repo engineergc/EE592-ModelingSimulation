{
 "cells": [
  {
   "cell_type": "markdown",
   "metadata": {},
   "source": [
    "# Advanced Modeling and Simulation Course\n",
    "\n",
    "### Instructor: Dr. M. Nedim ALPDEMİR\n",
    "\n",
    "## Continuous Simulation Homework\n",
    "\n",
    "## 1 - Modified Steel Plant \n",
    "\n",
    "![steel plant](SteelPLant.png)\n",
    "\n",
    "* Assume that the Steel Plant example given in previous lectures (file name is *DEVSCombinedSimEx-1.ipynb*) is modified such that the Furnace temperature is not constant and increases towards a target temperature of 1380 degrees. \n",
    "* Assume also that this process is governed by a   differential equation of the form:\n",
    "\n",
    " $\\frac{dh}{dt} = (F - h) \\times c$\n",
    "    \n",
    "    \n",
    "* where  $F$ is Final Furnace temperature, $c$ heating time coefficient defined as $0.05$\n",
    "* initial furnace temperature is 900 degrees (i.e. initial value of $h$).\n",
    "* Modify the implementation to achive this new configuration\n",
    "\n",
    "* *IMPLEMENTATION HINT: Note that you will need to make sure that at each integration step in the `Furnace` class, all the ingots in the soaking pits are informed about new (growing) furnace temperature which will further effect the integrator output in the `Ingot` class*\n",
    "\n",
    "### Simulation Experiment\n",
    "\n",
    "* Assume that there are a maximum of nine soaking pits  \n",
    "* simulate the heating process for 30 days (720 hours). \n",
    "* Record both ingot waiting time and furnace utilization statistics.\n",
    "* Schedule the arrival of the first ingot at time 0.\n",
    "\n"
   ]
  },
  {
   "cell_type": "markdown",
   "metadata": {},
   "source": [
    "\n",
    "## 2 - Modified Mass Spring Damper System\n",
    "\n",
    "Assume that the MSD system example given in the previous lectures (file name is  *CSS-MSDSystemVisualisation.ipynb*) is modified such that the body diagram is given below.\n",
    "\n",
    "![MSD](MassSpring-2.gif)\n",
    "\n",
    "* The equations for the fee body diagram above are given below  \n",
    "\n",
    "\n",
    "\n",
    "![MSDeq-deriv](MSD-eq-deriv.png)\n",
    "\n",
    "<p>There are three energy storage elements, so we expect three state equations.&nbsp; \n",
    "\tThe energy storage elements are the spring, k<sub>2</sub>, the mass, m, and \n",
    "\tthe spring, k<sub>1</sub>.&nbsp; Therefore we choose as our state variables \n",
    "\tx (the energy in spring k<sub>2</sub> is &frac12;k<sub>2</sub>x&sup2;), the velocity \n",
    "\tat x (the energy in the mass m is &frac12;mv&sup2;, where v is the first derivative \n",
    "\tof x), and y (the energy in spring k<sub>1</sub> is &frac12;k<sub>1</sub>(z-x)&sup2; , so we could pick z-x as a state variable, but we'll just use z (since x is already a state variable; recall that the choice of state variables is not unique).&nbsp; \n",
    "\tOur state variablesbecome:</p>\n",
    "$q_1=x, q_2=\\dot x, q_3=z$\n",
    "\n",
    "\n",
    "![MSeq](MassSpring-2-2.gif)\n",
    "\n",
    "* in state space form :\n",
    "\n",
    "![MSD-stateSpace](MassSpring-2-3.gif)\n",
    "\n",
    "### Simulation Experiment\n",
    "\n",
    "* implement a one step solver for the above differential equations\n",
    "* use Vpython to generate geometric objects and a virtual scene to represent the MSD systems defined above  \n",
    "* map the solution for the displacement of the mass (i.e. variable x) to the motion of the geometric object representing the mass, connected to the end of a damped spring\n",
    "* implement necessary GUI components to allow the user to interact wth the system by changing:\n",
    "\n",
    "    - the external force,\n",
    "    - the damping coefficient,\n",
    "    - the spring constants, and\n",
    " \n",
    " \n",
    " *Note: Equations and system description are adapted from https://lpsa.swarthmore.edu/Representations/SysRepSS.html*"
   ]
  },
  {
   "cell_type": "code",
   "execution_count": null,
   "metadata": {},
   "outputs": [],
   "source": []
  }
 ],
 "metadata": {
  "kernelspec": {
   "display_name": "Python 3",
   "language": "python",
   "name": "python3"
  },
  "language_info": {
   "codemirror_mode": {
    "name": "ipython",
    "version": 3
   },
   "file_extension": ".py",
   "mimetype": "text/x-python",
   "name": "python",
   "nbconvert_exporter": "python",
   "pygments_lexer": "ipython3",
   "version": "3.7.1"
  }
 },
 "nbformat": 4,
 "nbformat_minor": 2
}

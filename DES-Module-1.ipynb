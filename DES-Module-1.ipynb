{
 "cells": [
  {
   "cell_type": "markdown",
   "metadata": {},
   "source": [
    "# Advanced Modeling and Simulation Course\n",
    "### Instructor: Dr. M. Nedim ALPDEMİR\n",
    "The first part of the exercises contains examples of Discrete Event Simulation.\n",
    "For this part we use an open source Discrete Event Simulation package written in Python called __SimPy__\n",
    "\n",
    "## Obtaining SimPy\n",
    "[SimPy is available from https://pypi.org/project/simpy/](https://simpy.readthedocs.io/en/latest/contents.html)\n",
    "\n",
    "\n",
    "The examples in this part start with a relatively simple problem and increase in complexity as we move forward.\n",
    "\n",
    "## Brief introduction to SimPy Basic Concepts\n",
    "* The behavior of active components (like vehicles, customers or messages) is modeled with ___processes___. \n",
    "* All processes live in an ___environment___. \n",
    "* They interact with the environment and with each other via ___events___.\n",
    "\n",
    "### Processes\n",
    "* Processes are described by simple Python **generators**. \n",
    "* You can call them process function or process method, depending on whether it is a normal function or method of a class. \n",
    "* During their lifetime, they create **events** and **yield** them in order to wait for them to be **triggered**.\n",
    "\n",
    "### Events\n",
    "* When a process yields an event, the process gets suspended. \n",
    "* SimPy resumes the process, when the event occurs (we say that the event is triggered). \n",
    "* Multiple processes can wait for the same event. SimPy resumes them in the same order in which they yielded that event.\n",
    "\n",
    "### Time Management\n",
    "* An important event type is the **Timeout**. \n",
    "* Events of this type are triggered after a certain amount of (simulated) time has passed. \n",
    "* They allow a process to sleep (or hold its state) for the given time. A Timeout and all other events can be created by calling the appropriate method of the Environment that the process lives in (Environment.timeout() for example).\n",
    "\n",
    "\n",
    "\n"
   ]
  },
  {
   "cell_type": "markdown",
   "metadata": {},
   "source": [
    "## Module 1\n",
    "\n",
    "The first exercise is about a simple car that keeps driving for 20 minutes and then parks in 5 minutes\n"
   ]
  },
  {
   "cell_type": "code",
   "execution_count": 1,
   "metadata": {},
   "outputs": [
    {
     "name": "stdout",
     "output_type": "stream",
     "text": [
      "Start parking at 0\n",
      "Start driving at 5\n",
      "Start parking at 25\n",
      "Start driving at 30\n",
      "Start parking at 50\n",
      "Start driving at 55\n",
      "Start parking at 75\n",
      "Start driving at 80\n"
     ]
    }
   ],
   "source": [
    "def car(env):\n",
    "    while True:\n",
    "        print('Start parking at %d' % env.now)\n",
    "        parking_duration = 5\n",
    "        yield env.timeout(parking_duration)\n",
    "\n",
    "        print('Start driving at %d' % env.now)\n",
    "        trip_duration = 20\n",
    "        yield env.timeout(trip_duration)\n",
    "\n",
    "import simpy\n",
    "env = simpy.Environment()\n",
    "env.process(car(env))\n",
    "env.run(until=100)"
   ]
  },
  {
   "cell_type": "markdown",
   "metadata": {},
   "source": [
    "# Gas Station Refueling example\n",
    "\n",
    "###  Covers the following concepts:\n",
    "\n",
    "- Resources: Resource\n",
    "- Resources: Container\n",
    "- Waiting for other processes\n",
    "\n",
    "### Problem Description:\n",
    "  * A gas station has a limited number of gas pumps that share a common fuel reservoir. Cars randomly arrive at the gas station, request one of the fuel pumps and start refueling from that reservoir.\n",
    "\n",
    "  * A gas station control process observes the gas station's fuel level and calls a tank truck for refueling if the station's level drops below a threshold.\n",
    "  \n",
    "### We define the following \n",
    "\n",
    "  * **Fuel Pump** : a Container\n",
    "  * **Car** : a simulation Entity\n",
    "  * **Gas Station Control** : a Process\n",
    "  * **Car generator** :  a Process\n",
    "  * **Gas Station** :  a Resource\n",
    "  "
   ]
  },
  {
   "cell_type": "code",
   "execution_count": 2,
   "metadata": {},
   "outputs": [],
   "source": [
    "import itertools\n",
    "import random\n",
    "\n",
    "import simpy\n",
    "\n",
    "\n",
    "RANDOM_SEED = 42\n",
    "GAS_STATION_SIZE = 200     # liters\n",
    "THRESHOLD = 10             # Threshold for calling the tank truck (in %)\n",
    "FUEL_TANK_SIZE = 50        # liters\n",
    "FUEL_TANK_LEVEL = [5, 25]  # Min/max levels of fuel tanks (in liters)\n",
    "REFUELING_SPEED = 2        # liters / second\n",
    "TANK_TRUCK_TIME = 300      # Seconds it takes the tank truck to arrive\n",
    "T_INTER = [30, 300]        # Create a car every [min, max] seconds\n",
    "SIM_TIME = 1000            # Simulation time in seconds"
   ]
  },
  {
   "cell_type": "code",
   "execution_count": 3,
   "metadata": {},
   "outputs": [],
   "source": [
    "def car(name, env, gas_station, fuel_pump):\n",
    "    \"\"\"A car arrives at the gas station for refueling.\n",
    "\n",
    "    It requests one of the gas station's fuel pumps and tries to get the\n",
    "    desired amount of gas from it. If the stations reservoir is\n",
    "    depleted, the car has to wait for the tank truck to arrive.\n",
    "\n",
    "    \"\"\"\n",
    "    fuel_tank_level = random.randint(*FUEL_TANK_LEVEL)\n",
    "    print('%s arriving at gas station at %.1f' % (name, env.now))\n",
    "    with gas_station.request() as req:\n",
    "        start = env.now\n",
    "        # Request one of the gas pumps\n",
    "        yield req\n",
    "        # Get the required amount of fuel\n",
    "        liters_required = FUEL_TANK_SIZE - fuel_tank_level\n",
    "        #print('%s requesting %.1f litres of gas' % (name, liters_required))\n",
    "        yield fuel_pump.get(liters_required)\n",
    "        # The \"actual\" refueling process takes some time\n",
    "        yield env.timeout(liters_required / REFUELING_SPEED)\n",
    "\n",
    "        print('%s finished refueling in %.1f seconds.' % (name,\n",
    "                                                          env.now - start))\n"
   ]
  },
  {
   "cell_type": "code",
   "execution_count": 4,
   "metadata": {},
   "outputs": [],
   "source": [
    "def gas_station_control(env, fuel_pump):\n",
    "    \"\"\"Periodically check the level of the *fuel_pump* and call the tank\n",
    "    truck if the level falls below a threshold.\"\"\"\n",
    "    while True:\n",
    "        #print('pump level %d' % fuel_pump.level)\n",
    "        if fuel_pump.level * 100 / fuel_pump.capacity  < THRESHOLD:\n",
    "            # We need to call the tank truck now!\n",
    "            print('Calling tank truck at %d' % env.now)\n",
    "            # Wait for the tank truck to arrive and refuel the station\n",
    "            yield env.process(tank_truck(env, fuel_pump))\n",
    "\n",
    "        yield env.timeout(10)  # Check every 10 seconds"
   ]
  },
  {
   "cell_type": "code",
   "execution_count": 5,
   "metadata": {},
   "outputs": [],
   "source": [
    "def tank_truck(env, fuel_pump):\n",
    "    \"\"\"Arrives at the gas station after a certain delay and refuels it.\"\"\"\n",
    "    yield env.timeout(TANK_TRUCK_TIME)\n",
    "    print('Tank truck arriving at time %d' % env.now)\n",
    "    ammount = fuel_pump.capacity - fuel_pump.level\n",
    "    print('Tank truck refuelling %.1f liters.' % ammount)\n",
    "    yield fuel_pump.put(ammount)\n"
   ]
  },
  {
   "cell_type": "code",
   "execution_count": 6,
   "metadata": {},
   "outputs": [],
   "source": [
    "def car_generator(env, gas_station, fuel_pump):\n",
    "    \"\"\"Generate new cars that arrive at the gas station.\"\"\"\n",
    "    for i in itertools.count():\n",
    "        yield env.timeout(random.randint(*T_INTER))\n",
    "        env.process(car('Car %d' % i, env, gas_station, fuel_pump))"
   ]
  },
  {
   "cell_type": "code",
   "execution_count": 7,
   "metadata": {},
   "outputs": [
    {
     "name": "stdout",
     "output_type": "stream",
     "text": [
      "Gas Station refuelling\n",
      "Car 0 arriving at gas station at 87.0\n",
      "Car 0 finished refueling in 18.5 seconds.\n",
      "Car 1 arriving at gas station at 129.0\n",
      "Car 1 finished refueling in 19.0 seconds.\n",
      "Car 2 arriving at gas station at 284.0\n",
      "Car 2 finished refueling in 21.0 seconds.\n",
      "Car 3 arriving at gas station at 385.0\n",
      "Car 3 finished refueling in 13.5 seconds.\n",
      "Car 4 arriving at gas station at 459.0\n",
      "Calling tank truck at 460\n",
      "Car 4 finished refueling in 22.0 seconds.\n",
      "Car 5 arriving at gas station at 705.0\n",
      "Car 6 arriving at gas station at 750.0\n",
      "Tank truck arriving at time 760\n",
      "Tank truck refuelling 188.0 liters.\n",
      "Car 6 finished refueling in 29.0 seconds.\n",
      "Car 5 finished refueling in 76.5 seconds.\n",
      "Car 7 arriving at gas station at 891.0\n",
      "Car 7 finished refueling in 13.0 seconds.\n"
     ]
    }
   ],
   "source": [
    "# Setup and start the simulation\n",
    "print('Gas Station refuelling')\n",
    "random.seed(RANDOM_SEED)\n",
    "\n",
    "# Create environment and start processes\n",
    "env = simpy.Environment()\n",
    "gas_station = simpy.Resource(env, 2)\n",
    "fuel_pump = simpy.Container(env, GAS_STATION_SIZE, init=GAS_STATION_SIZE)\n",
    "env.process(gas_station_control(env, fuel_pump))\n",
    "env.process(car_generator(env, gas_station, fuel_pump))\n",
    "\n",
    "# Execute!\n",
    "env.run(until=SIM_TIME)"
   ]
  },
  {
   "cell_type": "code",
   "execution_count": null,
   "metadata": {},
   "outputs": [],
   "source": []
  },
  {
   "cell_type": "code",
   "execution_count": null,
   "metadata": {},
   "outputs": [],
   "source": []
  }
 ],
 "metadata": {
  "kernelspec": {
   "display_name": "Python 3",
   "language": "python",
   "name": "python3"
  },
  "language_info": {
   "codemirror_mode": {
    "name": "ipython",
    "version": 3
   },
   "file_extension": ".py",
   "mimetype": "text/x-python",
   "name": "python",
   "nbconvert_exporter": "python",
   "pygments_lexer": "ipython3",
   "version": "3.6.5"
  }
 },
 "nbformat": 4,
 "nbformat_minor": 2
}

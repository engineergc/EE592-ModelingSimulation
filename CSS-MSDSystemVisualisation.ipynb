{
 "cells": [
  {
   "cell_type": "markdown",
   "metadata": {},
   "source": [
    "# Advanced Modeling and Simulation Course\n",
    "\n",
    "### Instructor: Dr. M. Nedim ALPDEMİR\n",
    "\n",
    "*This material is prepared as part of the EE592-Advanced Modeling And Simulation course given at Ankara Yıldırım Beyazıt University (AYBÜ).*\n",
    "\n",
    "## Interactive Continuous Simulation Example with Visualization\n",
    "\n",
    "###  Case Study : Mass Spring Damper Systems \n",
    "\n",
    "![image](mass-spr-damp.png)\n",
    "<p><img src=\"//s0.wp.com/latex.php?latex=m+%5Cddot%7Bx%7D+%2B+c+%5Cdot%7Bx%7D+%2B+k+x+%3D+u&#038;bg=ffffff&#038;fg=000&#038;s=0\" alt=\"m &#92;ddot{x} + c &#92;dot{x} + k x = u\" title=\"m &#92;ddot{x} + c &#92;dot{x} + k x = u\" class=\"latex\" /></p>\n",
    "<p>x : position of mass [m] at time t [s]<br />\n",
    "m : mass [kg]<br />\n",
    "c  : viscous damping coefficient [N s / m]<br />\n",
    "k  : spring constant [N / m]<br />\n",
    "u : force input [N]</p>\n",
    "<p><span id=\"more-5\"></span><br />\n",
    "\n",
    "Depending on the values of m, c, and k, the system can be underdamped, overdamped or critically damped. For each case the behaviour of the system will be different.\n",
    "In the case of the *Mass Spring Damper (MSD)*, we can see from the equation presented above, that the system is described by a 2nd order ODE. We would like to describe this system with two 1st order odes instead of one 2nd order ODE,\n",
    "since having a set of first order ODEs allows us to arrange the equations into matrix form (state space) which is a convenient  representation that can be used for simulation using numerical methods!<br />\n",
    "\n",
    "<h4>State Space Representation</h4>\n",
    "<p>From the 2nd order ODE:</p>\n",
    "$$m\\ddot{x} + c\\dot{x} + kx = u$$\n",
    "<p>we can rename the dependent variable x and its first derivative as follows: </p>\n",
    "$$x_1(t)=x(t)$$\n",
    "\n",
    "$$x_2(t)=\\dot{x}(t)=\\dot{x_1}(t)$$\n",
    "\n",
    "<p>x1 : position of the mass [m]<br />\n",
    "x2 : derivative of x1 = velocity of the mass [m/s]<br />\n",
    "    \n",
    "Just from this change of variables we get the first 1st order ode.\n",
    "    \n",
    "$$\\dot{x_1}(t)=x_2(t)$$\n",
    "    \n",
    "Substituting into the 2nd order ode and noting that:<br />\n",
    "$$\\dot{x_2}(t)=\\ddot{x}(t)$$\n",
    "    \n",
    "we get:<br />\n",
    "\n",
    "$$\\dot{x_2} + c {x_2} + k x_1 = u$$\n",
    "\n",
    "which leads to our second 1st order ode:<br />\n",
    "\n",
    "$$\\dot{x_2} = - (c/m) {x_2} - (k/m) x_1 + (1/m) u$$\n",
    "\n",
    "<p>Now, we can put the set of equations into matrix form as:</p>\n",
    "<div lang=\"latex\">\n",
    "<img src=\"//s0.wp.com/latex.php?latex=%5Cbegin%7Bbmatrix%7D+%5Cdot%7Bx_1%7D%5C%5C+%5Cdot%7Bx_2%7D+%5Cend%7Bbmatrix%7D+%3D+%5Cbegin%7Bbmatrix%7D+0+%26+1%5C%5C+-+k%2Fm+%26-c%2Fm+%5Cend%7Bbmatrix%7D+%5Cbegin%7Bbmatrix%7D+x_1%5C%5Cx_2+%5Cend%7Bbmatrix%7D+%2B+%5Cbegin%7Bbmatrix%7D+0%5C%5C1%2Fm+%5Cend%7Bbmatrix%7D+u&#038;bg=ffffff&#038;fg=000&#038;s=0\" alt=\"&#92;begin{bmatrix} &#92;dot{x_1}&#92;&#92; &#92;dot{x_2} &#92;end{bmatrix} = &#92;begin{bmatrix} 0 &amp; 1&#92;&#92; - k/m &amp;-c/m &#92;end{bmatrix} &#92;begin{bmatrix} x_1&#92;&#92;x_2 &#92;end{bmatrix} + &#92;begin{bmatrix} 0&#92;&#92;1/m &#92;end{bmatrix} u\" title=\"&#92;begin{bmatrix} &#92;dot{x_1}&#92;&#92; &#92;dot{x_2} &#92;end{bmatrix} = &#92;begin{bmatrix} 0 &amp; 1&#92;&#92; - k/m &amp;-c/m &#92;end{bmatrix} &#92;begin{bmatrix} x_1&#92;&#92;x_2 &#92;end{bmatrix} + &#92;begin{bmatrix} 0&#92;&#92;1/m &#92;end{bmatrix} u\" class=\"latex\" />\n",
    "</div>\n",
    "<p>with the output equation (assuming we are interested in the postion of the mass):</p>\n",
    "<div lang=\"latex\">\n",
    "<img src=\"//s0.wp.com/latex.php?latex=y+%3D+%5Cbegin%7Bbmatrix%7D+%7B1%7D%26%7B0%7D+%5Cend%7Bbmatrix%7D+%5Cbegin%7Bbmatrix%7D+%7Bx_1%7D%5C%5C+%7Bx_2%7D+%5Cend%7Bbmatrix%7D&#038;bg=ffffff&#038;fg=000&#038;s=0\" alt=\"y = &#92;begin{bmatrix} {1}&amp;{0} &#92;end{bmatrix} &#92;begin{bmatrix} {x_1}&#92;&#92; {x_2} &#92;end{bmatrix}\" title=\"y = &#92;begin{bmatrix} {1}&amp;{0} &#92;end{bmatrix} &#92;begin{bmatrix} {x_1}&#92;&#92; {x_2} &#92;end{bmatrix}\" class=\"latex\" />\n",
    "</div>\n",
    "\n",
    "## Simulation Experiment\n",
    "\n",
    "* implement a one step solver for the above differential equations\n",
    "* use Vpython to generate geometric objects and a virtual scene to represent the MSD systems defined above  \n",
    "* map the solution for the displacement of the mass (i.e. variable x) to the motion of the geometric object representing the mass, connected to the end of a damped spring\n",
    "* implement necessary GUI components to allow the user to interact wth the system by changing:\n",
    "    - the external force,\n",
    "    - the damping coefficient,\n",
    "    - the spring constant, and\n",
    "    - the mass"
   ]
  },
  {
   "cell_type": "code",
   "execution_count": 7,
   "metadata": {},
   "outputs": [
    {
     "data": {
      "text/html": [
       "<div id=\"glowscript\" class=\"glowscript\"></div>"
      ],
      "text/plain": [
       "<IPython.core.display.HTML object>"
      ]
     },
     "metadata": {},
     "output_type": "display_data"
    },
    {
     "data": {
      "application/javascript": [
       "if (typeof Jupyter !== \"undefined\") { window.__context = { glowscript_container: $(\"#glowscript\").removeAttr(\"id\")};}else{ element.textContent = ' ';}"
      ],
      "text/plain": [
       "<IPython.core.display.Javascript object>"
      ]
     },
     "metadata": {},
     "output_type": "display_data"
    },
    {
     "data": {
      "application/vnd.jupyter.widget-view+json": {
       "model_id": "b2c84c1c585a4a5ba6c012e79aa1036b",
       "version_major": 2,
       "version_minor": 0
      },
      "text/plain": [
       "VBox(children=(FloatSlider(value=2.0, description='Mass (m):', max=4.0, min=0.2, step=0.2), FloatSlider(value=…"
      ]
     },
     "metadata": {},
     "output_type": "display_data"
    },
    {
     "data": {
      "application/vnd.jupyter.widget-view+json": {
       "model_id": "c38ec6c7e3bc467db43c9b4c19965401",
       "version_major": 2,
       "version_minor": 0
      },
      "text/plain": [
       "HBox(children=(Button(description='Reset', style=ButtonStyle()), Button(description='Pause', style=ButtonStyle…"
      ]
     },
     "metadata": {},
     "output_type": "display_data"
    },
    {
     "name": "stdout",
     "output_type": "stream",
     "text": [
      "resetting..\n",
      "resetting..\n"
     ]
    }
   ],
   "source": [
    "import numpy as np\n",
    "from scipy import signal\n",
    "import matplotlib.pyplot as plt\n",
    "from scipy.integrate import odeint\n",
    "from scipy.integrate import ode\n",
    "from vpython import *\n",
    "import ipywidgets as wd\n",
    " \n",
    "class MSDSystem(): \n",
    "\n",
    "    def __init__(self):\n",
    "\n",
    "        self.h0 = [0,0]\n",
    "        self.t0 = 0.0\n",
    "        self.k = 2.0    # spring constant\n",
    "        self.mass = 1.0   # mass \n",
    "        self.damp = 0.25 # damping factor\n",
    "        self.du = 2.0    # change in u (external force)\n",
    "        self.wigt = 0.0\n",
    "        self.l = 6\n",
    "        self.wh = 2\n",
    "        def intFunc(t, x, du):\n",
    "            y = x[0]\n",
    "            dydt = x[1]\n",
    "            dy2dt2 = (- self.damp/self.mass*dydt - (self.k/self.mass) * y + (1/self.mass)*du)\n",
    "            return [dydt,dy2dt2]\n",
    "        self.integrator = ode(intFunc)\n",
    "        self.integrator.set_initial_value(self.h0, self.t0).set_f_params(self.du)\n",
    "        self.integrator.set_integrator(\"dopri5\")\n",
    "        dt = 0.05\n",
    "        self.wall = box(pos=vector(0,self.wh/2,-1), size=vector(0.1,self.wh,2), color=color.red)\n",
    "        self.base = box(pos=vector(self.l/2,0,-1), size=vector(self.l,0.1,2), color=color.red) \n",
    "        self.box = box(pos=vector(1.8,0.4,-1), size=vector(0.8,0.8,0.8), color=color.blue) \n",
    "        self.spring = helix(pos=vector(0.0,0.5,-1), radius=0.2, axis=vector(1.8,0,0), color=color.orange, thickness=.05,coils=14)\n",
    "        self.box_po_x = self.box.pos.x\n",
    "        self.xi_1 = 0\n",
    "    \n",
    "    def reset(self):\n",
    "        self.integrator.set_initial_value(self.h0, self.t0).set_f_params(self.du)\n",
    "        \n",
    "    def wiggle(self, dx):\n",
    "        #self.wigt += dt\n",
    "        #self.box.pos.x = self.box_po_x + 0.5*sin(-4*self.wigt)\n",
    "        self.box.pos.x += dx\n",
    "        self.spring.length = self.box.pos.x-self.spring.pos.x  - 0.4\n",
    "        \n",
    "    def step(self, t):    \n",
    "        self.integrator.integrate(t)\n",
    "        x = self.integrator.y[0] \n",
    "        return x\n",
    "   \n",
    "scene = canvas() # This is needed in Jupyter notebook and lab to make programs easily rerunnable\n",
    "scene.title = \"A 3D Display of Mass Spring Damper System in action\"\n",
    "scene.width = 740\n",
    "scene.height = 400\n",
    "#scene.range = 5\n",
    "scene.background = color.gray(0.9)\n",
    "scene.center = vector(3,0,0)\n",
    "scene.forward = vector(0.5,-0.5,-1)\n",
    "scene.autoscale = False\n",
    "solver = MSDSystem()\n",
    "running = True\n",
    "t = 0.0\n",
    "xi_1 = 0.0\n",
    "dt = 0.01\n",
    "\n",
    "m_sl = wd.FloatSlider(description='Mass (m):', min=0.2, max=4, step=0.2, value=2)\n",
    "d_sl = wd.FloatSlider(description='Damping Coefficient (c):', min=0.0, max=1.9, step=0.1, value=0.25)\n",
    "s_sl = wd.FloatSlider(description='Spring Constant (k):', min=0.5, max=5, step=0.5, value=1)\n",
    "u_sl = wd.FloatSlider(description='External Force (du) :', min=1, max=10, step=0.5, value=2)\n",
    "sl_container = wd.VBox(children=[m_sl, d_sl, s_sl, u_sl])\n",
    "display(sl_container)\n",
    "\n",
    "ps_btn = wd.Button(description = 'Pause')\n",
    "def ps_btn_handler(s):\n",
    "    global running\n",
    "    running = not running\n",
    "    if s.description == 'Run': \n",
    "        s.description = 'Pause'\n",
    "        print(\"now running ...\")\n",
    "    else: \n",
    "        s.description = 'Run'\n",
    "        print(\"now paused ...\")\n",
    "ps_btn.on_click(ps_btn_handler)\n",
    "\n",
    "res_btn = wd.Button(description='Reset')\n",
    "def res_btn_handler(s):  \n",
    "    global t\n",
    "    global xi_1\n",
    "    global solver\n",
    "    print(\"resetting..\")\n",
    "    t = 0.0\n",
    "    solver.reset()\n",
    "res_btn.on_click(res_btn_handler)\n",
    "\n",
    "btn_container = wd.HBox(children=[res_btn,ps_btn])\n",
    "display(btn_container)\n",
    "\n",
    "import asyncio\n",
    "async def periodic():\n",
    "    global solver\n",
    "    global t\n",
    "    global dt\n",
    "    global xi_1\n",
    "    while True:\n",
    "        await asyncio.sleep(0)\n",
    "        rate(1/dt)\n",
    "        if running:\n",
    "            t += dt \n",
    "            solver.k = s_sl.value\n",
    "            solver.mass = m_sl.value\n",
    "            solver.damp = d_sl.value\n",
    "            solver.du = u_sl.value\n",
    "            x = solver.step(t)\n",
    "            dx = x - xi_1\n",
    "            solver.wiggle(dx)\n",
    "            xi_1 = x\n",
    "\n",
    "loop = asyncio.get_event_loop()\n",
    "task = loop.create_task(periodic())\n"
   ]
  },
  {
   "cell_type": "code",
   "execution_count": null,
   "metadata": {},
   "outputs": [],
   "source": []
  }
 ],
 "metadata": {
  "kernelspec": {
   "display_name": "Python 3",
   "language": "python",
   "name": "python3"
  },
  "language_info": {
   "codemirror_mode": {
    "name": "ipython",
    "version": 3
   },
   "file_extension": ".py",
   "mimetype": "text/x-python",
   "name": "python",
   "nbconvert_exporter": "python",
   "pygments_lexer": "ipython3",
   "version": "3.7.1"
  }
 },
 "nbformat": 4,
 "nbformat_minor": 2
}

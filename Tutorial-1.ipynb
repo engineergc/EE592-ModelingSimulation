{
 "cells": [
  {
   "cell_type": "markdown",
   "metadata": {},
   "source": [
    "# A Short and Concise Python Tutorial \n",
    "\n",
    "### Instructor: Dr. M. Nedim ALPDEMİR\n",
    "\n",
    "*This material is prepared as part of the EE592-Advanced Modeling And Simulation course given at Yıldırım Beyazıd University (YBÜ).*\n",
    "\n",
    " * Python is a cross-platform programming language, meaning, it runs on multiple platforms like Windows, Mac OS X, Linux, Unix and has even been ported to the Java and .NET virtual machines. It is free and open source.\n",
    " \n",
    " ## There are 3 ways of writing and executing python code\n",
    " \n",
    "### 1. Immediate mode\n",
    " \n",
    "Typing python in the command line will invoke the interpreter in immediate mode. We can directly type in Python expressions and press enter to get the output.\n",
    "\n",
    "`>>>` is the Python prompt. It tells us that the interpreter is ready for our input. \n",
    "\n",
    "### 2. Script mode\n",
    "This mode is used to execute Python program written in a file. Such a file is called a script. Scripts can be saved to disk for future use. Python scripts have the extension .py, meaning that the filename ends with .py.\n",
    "\n",
    "For example: `helloWorld.py`\n",
    "\n",
    "To execute this file in script mode we simply write `python helloWorld.py` at the command prompt.\n",
    "\n",
    "### 3. Integrated Development Environment (IDE)\n",
    "\n",
    "We can use any text editing software to write a Python script file.\n",
    "\n",
    "We just need to save it with the .py extension. But using an IDE can make our life a lot easier. IDE is a piece of software that provides useful features like code hinting, syntax highlighting and checking, file explorers etc. to the programmer for application development."
   ]
  },
  {
   "cell_type": "markdown",
   "metadata": {},
   "source": [
    "### Python Statements\n",
    "\n",
    "Instructions that a Python interpreter can execute are called statements.\n",
    "\n",
    "* multi line / single line statements\n",
    "* comments\n",
    "* the importance of indentation"
   ]
  },
  {
   "cell_type": "code",
   "execution_count": 3,
   "metadata": {},
   "outputs": [
    {
     "ename": "IndentationError",
     "evalue": "unexpected indent (<ipython-input-3-68225b9a7b6a>, line 26)",
     "output_type": "error",
     "traceback": [
      "\u001b[1;36m  File \u001b[1;32m\"<ipython-input-3-68225b9a7b6a>\"\u001b[1;36m, line \u001b[1;32m26\u001b[0m\n\u001b[1;33m    if i == 5:\u001b[0m\n\u001b[1;37m    ^\u001b[0m\n\u001b[1;31mIndentationError\u001b[0m\u001b[1;31m:\u001b[0m unexpected indent\n"
     ]
    }
   ],
   "source": [
    "# single line comment\n",
    "\n",
    "'''\n",
    "multi\n",
    "line\n",
    "comment\n",
    "'''\n",
    "# a multi line statement\n",
    "a = 1 + 2 + 3 + \\\n",
    "    4 + 5 + 6 + \\\n",
    "    7 + 8 + 9\n",
    "\n",
    "# This is explicit line continuation. \n",
    "# In Python, line continuation is implied inside parentheses ( ), brackets [ ] and braces { }.\n",
    "\n",
    "colors = ['red',\n",
    "          'blue',\n",
    "          'green']\n",
    "\n",
    "# indentation is very important\n",
    "'''\n",
    "A code block (body of a function, loop etc.) starts with indentation and ends with the first unindented line. \n",
    "The amount of indentation is up to you, but it must be consistent throughout that block.\n",
    "'''\n",
    "\n",
    "for i in range(1,11):\n",
    " print(i)\n",
    "     if i == 5:\n",
    "        break"
   ]
  },
  {
   "cell_type": "markdown",
   "metadata": {},
   "source": [
    "# Python Variables, Constants and Literals\n",
    "\n",
    "In Python, variables do not need declaration to reserve memory space. The \"variable declaration\" or \"variable initialization\" happens automatically when we assign a value to a variable."
   ]
  },
  {
   "cell_type": "code",
   "execution_count": 5,
   "metadata": {},
   "outputs": [
    {
     "name": "stdout",
     "output_type": "stream",
     "text": [
      "website\n",
      "5\n",
      "3.2\n",
      "Hello\n"
     ]
    }
   ],
   "source": [
    "### website = \"Apple.com\"\n",
    "print ('website')\n",
    "\n",
    "# assigning to multiple variables in ne statement\n",
    "a, b, c = 5, 3.2, \"Hello\"\n",
    "# or similarly\n",
    "x = y = z = \"same\"\n",
    "\n",
    "print (a)\n",
    "print (b)\n",
    "print (c)"
   ]
  },
  {
   "cell_type": "code",
   "execution_count": null,
   "metadata": {},
   "outputs": [],
   "source": [
    "# constants\n",
    "PI = 3.14\n",
    "GRAVITY = 9.8\n",
    "\n",
    "# can be used diectly\n",
    "area = PI*3**2\n",
    "print(area)\n",
    "\n",
    "\n",
    "# or can be used by importing an external file where those constants were defined \n",
    "import MyConstants\n",
    "newArea = MyConstants.MY_PI*5**2\n",
    "print(newArea)"
   ]
  },
  {
   "cell_type": "code",
   "execution_count": 6,
   "metadata": {},
   "outputs": [
    {
     "name": "stdout",
     "output_type": "stream",
     "text": [
      "10 100 200 300\n",
      "1010\n",
      "10.5 150.0\n",
      "3.14j 3.14 0.0\n"
     ]
    }
   ],
   "source": [
    "# Numeric literals\n",
    "\n",
    "a = 0b1010 #Binary Literals\n",
    "b = 100 #Decimal Literal \n",
    "c = 0o310 #Octal Literal\n",
    "d = 0x12c #Hexadecimal Literal\n",
    "\n",
    "#Float Literal\n",
    "float_1 = 10.5 \n",
    "float_2 = 1.5e2\n",
    "\n",
    "#Complex Literal \n",
    "x = 3.14j\n",
    "\n",
    "print(a, b, c, d)\n",
    "print (\"{:b}\".format(a))\n",
    "print(float_1, float_2)\n",
    "print(x, x.imag, x.real)"
   ]
  },
  {
   "cell_type": "code",
   "execution_count": 7,
   "metadata": {},
   "outputs": [
    {
     "name": "stdout",
     "output_type": "stream",
     "text": [
      "x is True\n",
      "y is False\n",
      "a: 5\n",
      "b: 10\n"
     ]
    }
   ],
   "source": [
    "# Boolean liteals\n",
    "x = (1 == True)\n",
    "y = (1 == False)\n",
    "a = True + 4\n",
    "b = False + 10\n",
    "\n",
    "print(\"x is\", x)\n",
    "print(\"y is\", y)\n",
    "print(\"a:\", a)\n",
    "print(\"b:\", b)"
   ]
  },
  {
   "cell_type": "code",
   "execution_count": 10,
   "metadata": {},
   "outputs": [
    {
     "name": "stdout",
     "output_type": "stream",
     "text": [
      "['apple', 'mango', 'orange']\n",
      "(1, 2, 3)\n",
      "{'a': 'apple', 'b': 'ball', 'c': 'cat'}\n",
      "{'e', 'a', 'i', 'o', 'u'}\n",
      "apple\n"
     ]
    }
   ],
   "source": [
    "# liteal collections\n",
    "fruits = [\"apple\", \"mango\", \"orange\"] #list\n",
    "numbers = (1, 2, 3) #tuple\n",
    "alphabets = {'a':'apple', 'b':'ball', 'c':'cat'} #dictionary\n",
    "vowels = {'a', 'e', 'i' , 'o', 'u'} #set\n",
    "\n",
    "print(fruits)\n",
    "print(numbers)\n",
    "print(alphabets)\n",
    "print(vowels)\n",
    "\n",
    "print(alphabets['a'])"
   ]
  },
  {
   "cell_type": "markdown",
   "metadata": {},
   "source": [
    "# Python Data Types\n",
    "\n",
    "## Lists\n",
    "\n",
    "List is an ordered sequence of items. It is one of the most used datatype in Python and is very flexible. All the items in a list do not need to be of the same type.\n",
    "\n",
    "Declaring a list is pretty straight forward. Items separated by commas are enclosed within brackets [ ].\n"
   ]
  },
  {
   "cell_type": "code",
   "execution_count": 11,
   "metadata": {},
   "outputs": [
    {
     "name": "stdout",
     "output_type": "stream",
     "text": [
      "a[2] =  15\n",
      "a[0:3] =  [5, 10, 15]\n",
      "a[5:] =  [30, 35, 40]\n",
      "[5, 10, 15, 20, 25, 30, 35, 40, 100]\n",
      "[5, 10, 15, 20, 25, 30, 35, 40, 100, 110, 120, 130]\n",
      "[5, 10, 15, 250, 25, 30, 35, 40, 100, 110, 120, 130]\n"
     ]
    }
   ],
   "source": [
    "a = [5,10,15,20,25,30,35,40]\n",
    "\n",
    "# print the third element, a[2] = 15\n",
    "print(\"a[2] = \", a[2])\n",
    "\n",
    "# print the first three element a[0:3] = [5, 10, 15]\n",
    "print(\"a[0:3] = \", a[0:3])\n",
    "\n",
    "# print all the elements after the 5th element including the 5th, a[5:] = [30, 35, 40]\n",
    "print(\"a[5:] = \", a[5:])\n",
    "\n",
    "# append a new element\n",
    "a.append(100)\n",
    "print(a)\n",
    "\n",
    "# extend the list with new elements\n",
    "a.extend([110,120,130])\n",
    "print(a)\n",
    "\n",
    "#replace an element with a new value\n",
    "a[3] = 250\n",
    "print(a)"
   ]
  },
  {
   "cell_type": "markdown",
   "metadata": {},
   "source": [
    "# Tuples\n",
    "\n",
    "* **Tuple** is an ordered sequence of items same as list.The only difference is that tuples are immutable. \n",
    "* Tuples once created cannot be modified.\n",
    "* Tuples are used to write-protect data and are usually faster than list as it cannot change dynamically.\n",
    "* It is defined within parentheses () where items are separated by commas."
   ]
  },
  {
   "cell_type": "code",
   "execution_count": 12,
   "metadata": {},
   "outputs": [
    {
     "name": "stdout",
     "output_type": "stream",
     "text": [
      "t[1] =  program\n",
      "t[0:3] =  (5, 'program', (1+3j))\n"
     ]
    },
    {
     "ename": "TypeError",
     "evalue": "'tuple' object does not support item assignment",
     "output_type": "error",
     "traceback": [
      "\u001b[1;31m---------------------------------------------------------------------------\u001b[0m",
      "\u001b[1;31mTypeError\u001b[0m                                 Traceback (most recent call last)",
      "\u001b[1;32m<ipython-input-12-4413355158bb>\u001b[0m in \u001b[0;36m<module>\u001b[1;34m()\u001b[0m\n\u001b[0;32m      9\u001b[0m \u001b[1;31m# Generates error\u001b[0m\u001b[1;33m\u001b[0m\u001b[1;33m\u001b[0m\u001b[0m\n\u001b[0;32m     10\u001b[0m \u001b[1;31m# Tuples are immutable\u001b[0m\u001b[1;33m\u001b[0m\u001b[1;33m\u001b[0m\u001b[0m\n\u001b[1;32m---> 11\u001b[1;33m \u001b[0mt\u001b[0m\u001b[1;33m[\u001b[0m\u001b[1;36m0\u001b[0m\u001b[1;33m]\u001b[0m \u001b[1;33m=\u001b[0m \u001b[1;36m10\u001b[0m\u001b[1;33m\u001b[0m\u001b[0m\n\u001b[0m",
      "\u001b[1;31mTypeError\u001b[0m: 'tuple' object does not support item assignment"
     ]
    }
   ],
   "source": [
    "t = (5,'program', 1+3j)\n",
    "\n",
    "# t[1] = 'program'\n",
    "print(\"t[1] = \", t[1])\n",
    "\n",
    "# t[0:3] = (5, 'program', (1+3j))\n",
    "print(\"t[0:3] = \", t[0:3])\n",
    "\n",
    "# Generates error\n",
    "# Tuples are immutable\n",
    "t[0] = 10"
   ]
  },
  {
   "cell_type": "markdown",
   "metadata": {},
   "source": [
    "# Python Strings\n",
    "\n",
    "* String is sequence of Unicode characters. We can use single quotes or double quotes to represent strings. \n",
    "* Multi-line strings can be denoted using triple quotes, ''' or \"\"\"."
   ]
  },
  {
   "cell_type": "code",
   "execution_count": 13,
   "metadata": {},
   "outputs": [
    {
     "name": "stdout",
     "output_type": "stream",
     "text": [
      "s[4] =  o\n",
      "s[6:11] =  world\n"
     ]
    },
    {
     "ename": "TypeError",
     "evalue": "'str' object does not support item assignment",
     "output_type": "error",
     "traceback": [
      "\u001b[1;31m---------------------------------------------------------------------------\u001b[0m",
      "\u001b[1;31mTypeError\u001b[0m                                 Traceback (most recent call last)",
      "\u001b[1;32m<ipython-input-13-430a1bc5a714>\u001b[0m in \u001b[0;36m<module>\u001b[1;34m()\u001b[0m\n\u001b[0;32m      9\u001b[0m \u001b[1;31m# Generates error\u001b[0m\u001b[1;33m\u001b[0m\u001b[1;33m\u001b[0m\u001b[0m\n\u001b[0;32m     10\u001b[0m \u001b[1;31m# Strings are immutable in Python\u001b[0m\u001b[1;33m\u001b[0m\u001b[1;33m\u001b[0m\u001b[0m\n\u001b[1;32m---> 11\u001b[1;33m \u001b[0ms\u001b[0m\u001b[1;33m[\u001b[0m\u001b[1;36m5\u001b[0m\u001b[1;33m]\u001b[0m \u001b[1;33m=\u001b[0m\u001b[1;34m'd'\u001b[0m\u001b[1;33m\u001b[0m\u001b[0m\n\u001b[0m",
      "\u001b[1;31mTypeError\u001b[0m: 'str' object does not support item assignment"
     ]
    }
   ],
   "source": [
    "s = 'Hello world!'\n",
    "\n",
    "# s[4] = 'o'\n",
    "print(\"s[4] = \", s[4])\n",
    "\n",
    "# s[6:11] = 'world'\n",
    "print(\"s[6:11] = \", s[6:11])\n",
    "\n",
    "# Generates error\n",
    "# Strings are immutable in Python\n",
    "s[5] ='d'\n"
   ]
  },
  {
   "cell_type": "markdown",
   "metadata": {},
   "source": [
    "# Python Set\n",
    "\n",
    "* Set is an unordered collection of unique items. \n",
    "* Set is defined by values separated by comma inside braces { }. \n",
    "* Items in a set are not ordered.\n",
    "* Items are not indexed so they can not be accessed via index operator []\n"
   ]
  },
  {
   "cell_type": "code",
   "execution_count": 14,
   "metadata": {},
   "outputs": [
    {
     "name": "stdout",
     "output_type": "stream",
     "text": [
      "a =  {1, 2, 3, 4, 5}\n",
      "<class 'set'>\n",
      "b =  {1, 2, 3, 6, 8}\n",
      "a | b =  {1, 2, 3, 4, 5, 6, 8}\n",
      "a & b =  {1, 2, 3}\n",
      "a - b =  {4, 5}\n",
      "<itertools.product object at 0x0000020020046E10>\n",
      "(1, 1)\n",
      "(1, 2)\n",
      "(1, 3)\n",
      "(1, 6)\n",
      "(1, 8)\n",
      "(2, 1)\n",
      "(2, 2)\n",
      "(2, 3)\n",
      "(2, 6)\n",
      "(2, 8)\n",
      "(3, 1)\n",
      "(3, 2)\n",
      "(3, 3)\n",
      "(3, 6)\n",
      "(3, 8)\n",
      "(4, 1)\n",
      "(4, 2)\n",
      "(4, 3)\n",
      "(4, 6)\n",
      "(4, 8)\n",
      "(5, 1)\n",
      "(5, 2)\n",
      "(5, 3)\n",
      "(5, 6)\n",
      "(5, 8)\n",
      "[]\n"
     ]
    }
   ],
   "source": [
    "a = {5,2,3,1,4}\n",
    "\n",
    "# printing set variable\n",
    "print(\"a = \", a)\n",
    "\n",
    "# data type of variable a\n",
    "print(type(a))\n",
    "\n",
    "# sets elements are unique so even if you include multiples it will eliminate them\n",
    "b = {1,1,2,2,3,3,3,6,8}\n",
    "print(\"b = \", b)\n",
    "\n",
    "# you can apply set operations such as UNION, INTERSECTION, CARTESIAN PRODUCT, DIFFERENCE etc.\n",
    "# UNION\n",
    "c = a | b\n",
    "print(\"a | b = \", c)\n",
    "\n",
    "#INTERSECTION\n",
    "c = a & b\n",
    "print(\"a & b = \", c)\n",
    "\n",
    "#DIFFERENCE\n",
    "c = a - b\n",
    "print(\"a - b = \", c)\n",
    "\n",
    "#for cartesian product you need to use a library function\n",
    "from itertools import product\n",
    "c = product(a,b)\n",
    "#the prodyct itself is an object\n",
    "print(c)\n",
    "\n",
    "#you can access the elements of the cartesian product in a loop\n",
    "for e in c:\n",
    "    print(e)\n",
    "    \n",
    "# or construct a list of tuples from the cartesian products\n",
    "tuple_list = [e for e in c]\n",
    "print(tuple_list)\n",
    "#print(e for e in c)"
   ]
  },
  {
   "cell_type": "markdown",
   "metadata": {},
   "source": [
    "# Python Dictionary\n",
    "\n",
    "* **Dictionary** is an unordered collection of key-value pairs.\n",
    "* It is generally used when we have a huge amount of data. \n",
    "* Dictionaries are optimized for retrieving data. We must know the key to retrieve the value.\n",
    "* In Python, dictionaries are defined within braces `{}` with each item being a pair in the form `key:value`. Key and value can be of any type."
   ]
  },
  {
   "cell_type": "code",
   "execution_count": 15,
   "metadata": {},
   "outputs": [
    {
     "name": "stdout",
     "output_type": "stream",
     "text": [
      "<class 'dict'>\n",
      "d[1] =  value\n",
      "d['key'] =  2\n",
      "name :  Ayşe\n",
      "hobbies :  ['reading', 'running', 'coding']\n",
      "mobile phone :  0546 77 8777\n"
     ]
    }
   ],
   "source": [
    "d = {1:'value','key':2}\n",
    "print(type(d))\n",
    "\n",
    "print(\"d[1] = \", d[1]);\n",
    "\n",
    "print(\"d['key'] = \", d['key']);\n",
    "\n",
    "# nested dictionaries and lists are possible\n",
    "person_info = {'name':\"Ayşe\", 'age':24, 'hobbies':[\"reading\",\"running\",\"coding\"], \n",
    "        'phones':{'home':\"0234 55 66\", 'work':\"7766876\",'mobile':\"0546 77 8777\"}}\n",
    "\n",
    "print(\"name : \",person_info['name'])\n",
    "print(\"hobbies : \",person_info['hobbies'])\n",
    "print(\"mobile phone : \",person_info['phones']['mobile'])\n",
    "\n",
    "# Generates error\n",
    "#print(\"d[2] = \", d[2]);\n"
   ]
  },
  {
   "cell_type": "code",
   "execution_count": 16,
   "metadata": {},
   "outputs": [
    {
     "name": "stdout",
     "output_type": "stream",
     "text": [
      "{1, 2, 3, 4}\n",
      "(5, 6, 7)\n",
      "['h', 'e', 'l', 'l', 'o']\n",
      "{1: 2, 3: 4}\n",
      "{3: 26, 4: 44}\n"
     ]
    }
   ],
   "source": [
    "'''\n",
    "CONVERSION from one data type to another is easy\n",
    "'''\n",
    "\n",
    "# convert list to set : note that the multiples are eliminated\n",
    "s = set([1,2,3,3,4,4])\n",
    "print(s)\n",
    "\n",
    "#convert set to tuple\n",
    "t = tuple({5,6,7})\n",
    "print(t)\n",
    "# convert string to list\n",
    "str_list = list('hello')\n",
    "print(str_list)\n",
    "\n",
    "# convert list of lists to dictionary\n",
    "d1 =  dict([[1,2],[3,4]])\n",
    "print(d1)\n",
    "\n",
    "# convert list of tuples  to dictionary\n",
    "d2 = dict([(3,26),(4,44)])\n",
    "print(d2)"
   ]
  },
  {
   "cell_type": "markdown",
   "metadata": {},
   "source": [
    "<h1><a id=\"arithmetic\" name=\"arithmetic\"></a>Arithmetic operators</h1>\n",
    "\n",
    "<p>Arithmetic operators are used to perform mathematical operations like addition, subtraction, multiplication etc.</p>\n",
    "\n",
    "<table border=\"1\">\n",
    "\t<caption>Arithmetic operators in Python</caption>\n",
    "\t<tbody>\n",
    "\t\t<tr>\n",
    "\t\t\t<th>Operator</th>\n",
    "\t\t\t<th>Meaning</th>\n",
    "\t\t\t<th>Example</th>\n",
    "\t\t</tr>\n",
    "\t\t<tr>\n",
    "\t\t\t<td>+</td>\n",
    "\t\t\t<td>Add two operands or unary plus</td>\n",
    "\t\t\t<td>x + y<br />\n",
    "\t\t\t\t+2</td>\n",
    "\t\t</tr>\n",
    "\t\t<tr>\n",
    "\t\t\t<td>-</td>\n",
    "\t\t\t<td>Subtract right operand from the left or unary minus</td>\n",
    "\t\t\t<td>x - y<br />\n",
    "\t\t\t\t-2</td>\n",
    "\t\t</tr>\n",
    "\t\t<tr>\n",
    "\t\t\t<td>*</td>\n",
    "\t\t\t<td>Multiply two operands</td>\n",
    "\t\t\t<td>x * y</td>\n",
    "\t\t</tr>\n",
    "\t\t<tr>\n",
    "\t\t\t<td>/</td>\n",
    "\t\t\t<td>Divide left operand by the right one (always results into float)</td>\n",
    "\t\t\t<td>x / y</td>\n",
    "\t\t</tr>\n",
    "\t\t<tr>\n",
    "\t\t\t<td>%</td>\n",
    "\t\t\t<td>Modulus - remainder of the division of left operand by the right</td>\n",
    "\t\t\t<td>x % y (remainder of x/y)</td>\n",
    "\t\t</tr>\n",
    "\t\t<tr>\n",
    "\t\t\t<td>//</td>\n",
    "\t\t\t<td>Floor division - division that results into whole number adjusted to the left in the number line</td>\n",
    "\t\t\t<td>x // y</td>\n",
    "\t\t</tr>\n",
    "\t\t<tr>\n",
    "\t\t\t<td>**</td>\n",
    "\t\t\t<td>Exponent - left operand raised to the power of right</td>\n",
    "\t\t\t<td>x**y (x to the power y)</td>\n",
    "\t\t</tr>\n",
    "\t</tbody>\n",
    "</table>\n",
    "\n",
    "# Comparison Operators\n",
    "\n",
    "<table border=\"1\">\n",
    "\t<caption>Comparision operators in Python</caption>\n",
    "\t<tbody>\n",
    "\t\t<tr>\n",
    "\t\t\t<th>Operator</th>\n",
    "\t\t\t<th>Meaning</th>\n",
    "\t\t\t<th>Example</th>\n",
    "\t\t</tr>\n",
    "\t\t<tr>\n",
    "\t\t\t<td>&gt;</td>\n",
    "\t\t\t<td>Greater that - True if left operand is greater than the right</td>\n",
    "\t\t\t<td>x &gt; y</td>\n",
    "\t\t</tr>\n",
    "\t\t<tr>\n",
    "\t\t\t<td>&lt;</td>\n",
    "\t\t\t<td>Less that - True if left operand is less than the right</td>\n",
    "\t\t\t<td>x &lt; y</td>\n",
    "\t\t</tr>\n",
    "\t\t<tr>\n",
    "\t\t\t<td>==</td>\n",
    "\t\t\t<td>Equal to - True if both operands are equal</td>\n",
    "\t\t\t<td>x == y</td>\n",
    "\t\t</tr>\n",
    "\t\t<tr>\n",
    "\t\t\t<td>!=</td>\n",
    "\t\t\t<td>Not equal to - True if operands are not equal</td>\n",
    "\t\t\t<td>x != y</td>\n",
    "\t\t</tr>\n",
    "\t\t<tr>\n",
    "\t\t\t<td>&gt;=</td>\n",
    "\t\t\t<td>Greater than or equal to - True if left operand is greater than or equal to the right</td>\n",
    "\t\t\t<td>x &gt;= y</td>\n",
    "\t\t</tr>\n",
    "\t\t<tr>\n",
    "\t\t\t<td>&lt;=</td>\n",
    "\t\t\t<td>Less than or equal to - True if left operand is less than or equal to the right</td>\n",
    "\t\t\t<td>x &lt;= y</td>\n",
    "\t\t</tr>\n",
    "\t</tbody>\n",
    "</table>\n",
    "\n",
    "# Logical operators\n",
    "\n",
    "<p>Logical operators are the <code>and</code>, <code>or</code>, <code>not</code> operators.</p>\n",
    "\n",
    "<table border=\"1\">\n",
    "\t<caption>Logical operators in Python</caption>\n",
    "\t<tbody>\n",
    "\t\t<tr>\n",
    "\t\t\t<th>Operator</th>\n",
    "\t\t\t<th>Meaning</th>\n",
    "\t\t\t<th>Example</th>\n",
    "\t\t</tr>\n",
    "\t\t<tr>\n",
    "\t\t\t<td>and</td>\n",
    "\t\t\t<td>True if both the operands are true</td>\n",
    "\t\t\t<td>x and y</td>\n",
    "\t\t</tr>\n",
    "\t\t<tr>\n",
    "\t\t\t<td>or</td>\n",
    "\t\t\t<td>True if either of the operands is true</td>\n",
    "\t\t\t<td>x or y</td>\n",
    "\t\t</tr>\n",
    "\t\t<tr>\n",
    "\t\t\t<td>not</td>\n",
    "\t\t\t<td>True if operand is false (complements the operand)</td>\n",
    "\t\t\t<td>not x</td>\n",
    "\t\t</tr>\n",
    "\t</tbody>\n",
    "</table>\n",
    "\n",
    "\n",
    "<h1 id=\"bitwise_operators\"><a id=\"bitwise\" name=\"bitwise\"></a>Bitwise operators</h1>\n",
    "\n",
    "<p>Bitwise operators act on operands as if they were string of binary digits. It operates bit by bit, hence the name.</p>\n",
    "\n",
    "<p>For example, 2 is <code>10</code> in binary and 7 is <code>111</code>.</p>\n",
    "\n",
    "<p><strong>In the table below:</strong> Let <var>x</var> = 10 (<code>0000 1010</code> in binary) and <var>y</var> = 4 (<code>0000 0100</code> in binary)</p>\n",
    "\n",
    "<table border=\"1\">\n",
    "\t<caption>Bitwise operators in Python</caption>\n",
    "\t<tbody>\n",
    "\t\t<tr>\n",
    "\t\t\t<th>Operator</th>\n",
    "\t\t\t<th>Meaning</th>\n",
    "\t\t\t<th>Example</th>\n",
    "\t\t</tr>\n",
    "\t\t<tr>\n",
    "\t\t\t<td>&amp;</td>\n",
    "\t\t\t<td>Bitwise AND</td>\n",
    "\t\t\t<td>x&amp; y = 0 (<code>0000 0000</code>)</td>\n",
    "\t\t</tr>\n",
    "\t\t<tr>\n",
    "\t\t\t<td>|</td>\n",
    "\t\t\t<td>Bitwise OR</td>\n",
    "\t\t\t<td>x | y = 14 (<code>0000 1110</code>)</td>\n",
    "\t\t</tr>\n",
    "\t\t<tr>\n",
    "\t\t\t<td>~</td>\n",
    "\t\t\t<td>Bitwise NOT</td>\n",
    "\t\t\t<td>~x = -11 (<code>1111 0101</code>)</td>\n",
    "\t\t</tr>\n",
    "\t\t<tr>\n",
    "\t\t\t<td>^</td>\n",
    "\t\t\t<td>Bitwise XOR</td>\n",
    "\t\t\t<td>x ^ y = 14 (<code>0000 1110</code>)</td>\n",
    "\t\t</tr>\n",
    "\t\t<tr>\n",
    "\t\t\t<td>&gt;&gt;</td>\n",
    "\t\t\t<td>Bitwise right shift</td>\n",
    "\t\t\t<td>x&gt;&gt; 2 = 2 (<code>0000 0010</code>)</td>\n",
    "\t\t</tr>\n",
    "\t\t<tr>\n",
    "\t\t\t<td>&lt;&lt;</td>\n",
    "\t\t\t<td>Bitwise left shift</td>\n",
    "\t\t\t<td>x&lt;&lt; 2 = 40 (<code>0010 1000</code>)</td>\n",
    "\t\t</tr>\n",
    "\t</tbody>\n",
    "</table>\n",
    "\n",
    "\n",
    "\n",
    "<h1><a id=\"membership\" name=\"membership\"></a>Membership operators</h1>\n",
    "\n",
    "<p><code>in</code> and <code>not in</code> are the membership operators in Python. They are used to test whether a value or variable is found in a sequence (<a href=\"/python-programming/string\" title=\"Python strings\">string</a>, <a href=\"/python-programming/list\" title=\"Python list\">list</a>, <a href=\"/python-programming/tuple\" title=\"Python tuple\">tuple</a>, <a href=\"/python-programming/set\" title=\"Python set\">set</a> and <a href=\"/python-programming/dictionary\" title=\"Python dictionary\">dictionary</a>).</p>\n",
    "\n",
    "<p>In a dictionary we can only test for presence of key, not the value.</p>\n",
    "\n",
    "<table border=\"1\">\n",
    "\t<tbody>\n",
    "\t\t<tr>\n",
    "\t\t\t<th>Operator</th>\n",
    "\t\t\t<th>Meaning</th>\n",
    "\t\t\t<th>Example</th>\n",
    "\t\t</tr>\n",
    "\t\t<tr>\n",
    "\t\t\t<td>in</td>\n",
    "\t\t\t<td>True if value/variable is found in the sequence</td>\n",
    "\t\t\t<td>5 in x</td>\n",
    "\t\t</tr>\n",
    "\t\t<tr>\n",
    "\t\t\t<td>not in</td>\n",
    "\t\t\t<td>True if value/variable is not found in the sequence</td>\n",
    "\t\t\t<td>5 not in x</td>\n",
    "\t\t</tr>\n",
    "\t</tbody>\n",
    "</table>"
   ]
  },
  {
   "cell_type": "markdown",
   "metadata": {},
   "source": [
    "# Output formatting\n",
    "\n",
    "Sometimes we would like to format our output to make it look attractive. This can be done by using the str.format() method. This method is visible to any string object."
   ]
  },
  {
   "cell_type": "code",
   "execution_count": 17,
   "metadata": {},
   "outputs": [
    {
     "name": "stdout",
     "output_type": "stream",
     "text": [
      "I love bread and butter\n",
      "I love butter and bread\n",
      "Hello John, Goodmorning\n",
      "The value of x is 12.35\n",
      "The value of x is 12.3457\n"
     ]
    }
   ],
   "source": [
    "print('I love {0} and {1}'.format('bread','butter'))\n",
    "# Output: I love bread and butter\n",
    "\n",
    "print('I love {1} and {0}'.format('bread','butter'))\n",
    "# Output: I love butter and bread\n",
    "\n",
    "print('Hello {name}, {greeting}'.format(greeting = 'Goodmorning', name = 'John'))\n",
    "\n",
    "x = 12.3456789\n",
    "print('The value of x is %3.2f' %x)\n",
    "print('The value of x is %3.4f' %x)"
   ]
  },
  {
   "cell_type": "markdown",
   "metadata": {},
   "source": [
    "# Python Input\n",
    "\n",
    "To allow flexibility we might want to take the input from the user. In Python, we have the input() function to allow this. The syntax for input() is\n",
    "\n",
    "`input([prompt])`\n"
   ]
  },
  {
   "cell_type": "code",
   "execution_count": 18,
   "metadata": {
    "scrolled": true
   },
   "outputs": [
    {
     "name": "stdout",
     "output_type": "stream",
     "text": [
      "Enter a number: 23\n",
      "you entered =  23\n",
      "total =  46.0\n"
     ]
    }
   ],
   "source": [
    "num = input('Enter a number: ')\n",
    "print(\"you entered = \",num)\n",
    "\n",
    "# input gets the user input as a string, so cast it to a number if you want to use it in a calculation\n",
    "sum = 23 + float(num)\n",
    "print(\"total = \",sum)"
   ]
  },
  {
   "cell_type": "markdown",
   "metadata": {},
   "source": [
    "# Python if...elif...else Statement\n",
    "\n",
    "flow diagram is as follows:\n",
    "\n",
    "![Python_if_elif_else_statement.jpg](Python_if_elif_else_statement.jpg)"
   ]
  },
  {
   "cell_type": "code",
   "execution_count": 19,
   "metadata": {},
   "outputs": [
    {
     "name": "stdout",
     "output_type": "stream",
     "text": [
      "Positive number\n",
      "Enter a number: 23\n",
      "Positive number\n"
     ]
    }
   ],
   "source": [
    "# In this program, \n",
    "# we check if the number is positive or\n",
    "# negative or zero and \n",
    "# display an appropriate message\n",
    "\n",
    "num = 3.4\n",
    "\n",
    "# Try these two variations as well:\n",
    "# num = 0\n",
    "# num = -4.5\n",
    "\n",
    "if num > 0:\n",
    "    print(\"Positive number\")\n",
    "elif num == 0:\n",
    "    print(\"Zero\")\n",
    "else:\n",
    "    print(\"Negative number\")\n",
    "    \n",
    "    \n",
    "# nested if statements\n",
    "\n",
    "# In this program, we input a number\n",
    "# check if the number is positive or\n",
    "# negative or zero and display\n",
    "# an appropriate message\n",
    "# This time we use nested if\n",
    "\n",
    "num = float(input(\"Enter a number: \"))\n",
    "if num >= 0:\n",
    "    if num == 0:\n",
    "        print(\"Zero\")\n",
    "    else:\n",
    "        print(\"Positive number\")\n",
    "else:\n",
    "    print(\"Negative number\")"
   ]
  },
  {
   "cell_type": "markdown",
   "metadata": {},
   "source": [
    "# For Loop in Python\n",
    "\n",
    "he for loop in Python is used to iterate over a sequence (list, tuple, string) or other iterable objects. Iterating over a sequence is called traversal.\n",
    "\n",
    "Syntax of for Loop\n",
    "\n",
    "`\n",
    "for val in sequence:\n",
    "\tBody of for\n",
    "`\n",
    "\n",
    "Here, val is the variable that takes the value of the item inside the sequence on each iteration.\n",
    "\n",
    "Loop continues until we reach the last item in the sequence. The body of for loop is separated from the rest of the code using indentation.\n",
    "\n",
    "## The range() function\n",
    "\n",
    "* We can generate a sequence of numbers using `range()` function. `range(10)` will generate numbers from 0 to 9 (10 numbers).\n",
    "\n",
    "* We can also define the start, stop and step size as `range(start,stop,step size)`. step size defaults to 1 if not provided.\n",
    "\n",
    "* This function does not store all the values in memory, it would be inefficient. So it remembers the start, stop, step size and generates the next number on the go.\n",
    "\n",
    "* To force this function to output all the items, we can use the function list()\n"
   ]
  },
  {
   "cell_type": "code",
   "execution_count": 20,
   "metadata": {},
   "outputs": [
    {
     "name": "stdout",
     "output_type": "stream",
     "text": [
      "The sum is 48\n"
     ]
    }
   ],
   "source": [
    "# Program to find the sum of all numbers stored in a list\n",
    "\n",
    "# List of numbers\n",
    "numbers = [6, 5, 3, 8, 4, 2, 5, 4, 11]\n",
    "\n",
    "# variable to store the sum\n",
    "sum = 0\n",
    "\n",
    "# iterate over the list\n",
    "for val in numbers:\n",
    "\tsum = sum+val\n",
    "\n",
    "# Output: The sum is 48\n",
    "print(\"The sum is\", sum)"
   ]
  },
  {
   "cell_type": "code",
   "execution_count": 21,
   "metadata": {},
   "outputs": [
    {
     "name": "stdout",
     "output_type": "stream",
     "text": [
      "range(0, 10)\n",
      "[0, 1, 2, 3, 4, 5, 6, 7, 8, 9]\n",
      "[2, 3, 4, 5, 6, 7]\n",
      "[2, 5, 8, 11, 14, 17]\n"
     ]
    }
   ],
   "source": [
    "# Output: range(0, 10)\n",
    "print(range(10))\n",
    "\n",
    "# Output: [0, 1, 2, 3, 4, 5, 6, 7, 8, 9]\n",
    "print(list(range(10)))\n",
    "\n",
    "# Output: [2, 3, 4, 5, 6, 7]\n",
    "print(list(range(2, 8)))\n",
    "\n",
    "# Output: [2, 5, 8, 11, 14, 17]\n",
    "print(list(range(2, 20, 3)))"
   ]
  },
  {
   "cell_type": "code",
   "execution_count": 22,
   "metadata": {},
   "outputs": [
    {
     "name": "stdout",
     "output_type": "stream",
     "text": [
      "I like nature\n",
      "I like jogging\n",
      "I like music\n"
     ]
    }
   ],
   "source": [
    "# Program to iterate through a list using indexing\n",
    "\n",
    "genre = ['nature', 'jogging', 'music']\n",
    "\n",
    "# iterate over the list using index\n",
    "for i in range(len(genre)):\n",
    "\tprint(\"I like\", genre[i])"
   ]
  },
  {
   "cell_type": "markdown",
   "metadata": {},
   "source": [
    "## for loop with else\n",
    "* A for loop can have an optional else block as well. The `else` part is executed if the items in the sequence used in for loop exhausts.\n",
    "\n",
    "* break statement can be used to stop a for loop. In such case, the else part is ignored.\n",
    "\n",
    "* Hence, a for loop's else part runs if no break occurs.\n",
    "\n",
    "Here is an example to illustrate this."
   ]
  },
  {
   "cell_type": "code",
   "execution_count": 23,
   "metadata": {},
   "outputs": [
    {
     "name": "stdout",
     "output_type": "stream",
     "text": [
      "0\n",
      "1\n",
      "5\n",
      "No items left.\n"
     ]
    }
   ],
   "source": [
    "digits = [0, 1, 5]\n",
    "\n",
    "for i in digits:\n",
    "    print(i)\n",
    "else:\n",
    "    print(\"No items left.\")"
   ]
  },
  {
   "cell_type": "markdown",
   "metadata": {},
   "source": [
    "# While loop in Python\n",
    "\n",
    "* The while loop in Python is used to iterate over a block of code as long as the test expression (condition) is true.\n",
    "\n",
    "* We generally use this loop when we don't know beforehand, the number of times to iterate."
   ]
  },
  {
   "cell_type": "code",
   "execution_count": 24,
   "metadata": {},
   "outputs": [
    {
     "name": "stdout",
     "output_type": "stream",
     "text": [
      "The sum is 55\n"
     ]
    }
   ],
   "source": [
    "# Program to add natural\n",
    "# numbers upto \n",
    "# sum = 1+2+3+...+n\n",
    "\n",
    "# To take input from the user,\n",
    "# n = int(input(\"Enter n: \"))\n",
    "\n",
    "n = 10\n",
    "\n",
    "# initialize sum and counter\n",
    "sum = 0\n",
    "i = 1\n",
    "\n",
    "while i <= n:\n",
    "    sum = sum + i\n",
    "    i = i+1    # update counter\n",
    "\n",
    "# print the sum\n",
    "print(\"The sum is\", sum)\n",
    "\n"
   ]
  },
  {
   "cell_type": "code",
   "execution_count": 25,
   "metadata": {},
   "outputs": [
    {
     "name": "stdout",
     "output_type": "stream",
     "text": [
      "Inside loop\n",
      "Inside loop\n",
      "Inside loop\n",
      "Inside else\n"
     ]
    }
   ],
   "source": [
    "# Example to illustrate\n",
    "# the use of else statement\n",
    "# with the while loop\n",
    "\n",
    "counter = 0\n",
    "\n",
    "while counter < 3:\n",
    "    print(\"Inside loop\")\n",
    "    counter = counter + 1\n",
    "else:\n",
    "    print(\"Inside else\")"
   ]
  },
  {
   "cell_type": "markdown",
   "metadata": {},
   "source": [
    "# Functions\n",
    "\n",
    "Syntax :\n",
    "\n",
    "`\n",
    "def function_name(parameters):\n",
    "\t\"\"\"docstring\"\"\"\n",
    "\tstatement(s)\n",
    "`\n",
    "\n",
    "* Keyword def marks the start of function header.\n",
    "* A function name to uniquely identify it. \n",
    "* Function naming follows the same rules of writing identifiers in Python.\n",
    "* Parameters (arguments) through which we pass values to a function. They are optional.\n",
    "* A colon (:) to mark the end of function header.\n",
    "* Optional documentation string (docstring) to describe what the function does.\n",
    "* One or more valid python statements that make up the function body. Statements must have same indentation level (usually 4 spaces).\n",
    "* An optional return statement to return a value from the function."
   ]
  },
  {
   "cell_type": "code",
   "execution_count": 26,
   "metadata": {},
   "outputs": [
    {
     "name": "stdout",
     "output_type": "stream",
     "text": [
      "2\n",
      "4\n"
     ]
    }
   ],
   "source": [
    "def greet(name):\n",
    "\t\"\"\"This function greets to\n",
    "\tthe person passed in as\n",
    "\tparameter\"\"\"\n",
    "\tprint(\"Hello, \" + name + \". Good morning!\")\n",
    "    \n",
    "    \n",
    "def absolute_value(num):\n",
    "\t\"\"\"This function returns the absolute\n",
    "\tvalue of the entered number\"\"\"\n",
    "\n",
    "\tif num >= 0:\n",
    "\t\treturn num\n",
    "\telse:\n",
    "\t\treturn -num\n",
    "\n",
    "# Output: 2\n",
    "print(absolute_value(2))\n",
    "\n",
    "# Output: 4\n",
    "print(absolute_value(-4))"
   ]
  },
  {
   "cell_type": "markdown",
   "metadata": {},
   "source": [
    "## Scope and Lifetime of variables\n",
    "\n",
    "* Scope of a variable is the portion of a program where the variable is recognized. Parameters and variables defined inside a function is not visible from outside. Hence, they have a local scope.\n",
    "\n",
    "* Lifetime of a variable is the period throughout which the variable exits in the memory. The lifetime of variables inside a function is as long as the function executes.\n",
    "\n",
    "* They are destroyed once we return from the function. Hence, a function does not remember the value of a variable from its previous calls."
   ]
  },
  {
   "cell_type": "code",
   "execution_count": 27,
   "metadata": {},
   "outputs": [
    {
     "name": "stdout",
     "output_type": "stream",
     "text": [
      "Value inside function: 10\n",
      "Value outside function: 20\n"
     ]
    }
   ],
   "source": [
    "def my_func():\n",
    "\tx = 10\n",
    "\tprint(\"Value inside function:\",x)\n",
    "\n",
    "x = 20\n",
    "my_func()\n",
    "print(\"Value outside function:\",x)"
   ]
  },
  {
   "cell_type": "markdown",
   "metadata": {},
   "source": [
    "## Python Keyword Arguments\n",
    "\n",
    "When we call a function with some values, these values get assigned to the arguments according to their position.\n",
    "\n",
    "Functions can have \n",
    "* positional arguments \n",
    "* keyword arguments \n",
    "* a fixed number of arguments\n",
    "* variable number of arguments\n",
    "\n",
    "we can mix positional arguments with keyword arguments during a function call. But we must keep in mind that **keyword arguments must follow positional arguments**.\n"
   ]
  },
  {
   "cell_type": "code",
   "execution_count": 28,
   "metadata": {},
   "outputs": [
    {
     "name": "stdout",
     "output_type": "stream",
     "text": [
      "Hello Monica, Good morning!\n"
     ]
    }
   ],
   "source": [
    "# function with fixed number of arguments\n",
    "def greet(name,msg):\n",
    "   \"\"\"This function greets to\n",
    "   the person with the provided message\"\"\"\n",
    "   print(\"Hello\",name + ', ' + msg)\n",
    "\n",
    "greet(\"Monica\",\"Good morning!\")\n",
    "\n",
    "\n"
   ]
  },
  {
   "cell_type": "code",
   "execution_count": 29,
   "metadata": {},
   "outputs": [
    {
     "name": "stdout",
     "output_type": "stream",
     "text": [
      "Hello Ayşe, Good morning!\n",
      "Hello Mehmet, How do you do?\n",
      "Hello Ali, Are you allright?\n"
     ]
    }
   ],
   "source": [
    "def greet(name, msg = \"Good morning!\"):\n",
    "   \"\"\"\n",
    "   This function greets to\n",
    "   the person with the\n",
    "   provided message.\n",
    "\n",
    "   If message is not provided,\n",
    "   it defaults to \"Good\n",
    "   morning!\"\n",
    "   \"\"\"\n",
    "\n",
    "   print(\"Hello\",name + ', ' + msg)\n",
    "\n",
    "greet(\"Ayşe\")\n",
    "greet(\"Mehmet\",\"How do you do?\")\n",
    "# 1 positional, 1 keyword argument\n",
    "greet(\"Ali\",msg = \"Are you allright?\") "
   ]
  },
  {
   "cell_type": "markdown",
   "metadata": {},
   "source": [
    "## Understanding *args and **kwargs\n",
    "\n",
    "* In Python, the single-asterisk form of *args can be used as a parameter to send a non-keyworded variable-length argument list to functions. \n",
    "* It is worth noting that the asterisk (*) is the important element here, as the word args is the established conventional idiom, though it is not enforced by the language.\n",
    "\n",
    "* The double asterisk form of **kwargs is used to pass a keyworded, variable-length argument dictionary to a function. Again, the two asterisks (**) are the important element here, as the word kwargs is conventionally used, though not enforced by the language.\n",
    "\n",
    "* Like *args, **kwargs can take however many arguments you would like to supply to it. However, **kwargs differs from *args in that you will need to assign keywords.\n"
   ]
  },
  {
   "cell_type": "code",
   "execution_count": 30,
   "metadata": {},
   "outputs": [
    {
     "name": "stdout",
     "output_type": "stream",
     "text": [
      "20\n",
      "90\n",
      "24\n",
      "900\n"
     ]
    }
   ],
   "source": [
    "def multiply(*args):\n",
    "    z = 1\n",
    "    for num in args:\n",
    "        z *= num\n",
    "    print(z)\n",
    "\n",
    "multiply(4, 5)\n",
    "multiply(10, 9)\n",
    "multiply(2, 3, 4)\n",
    "multiply(3, 5, 10, 6)"
   ]
  },
  {
   "cell_type": "code",
   "execution_count": 31,
   "metadata": {},
   "outputs": [
    {
     "name": "stdout",
     "output_type": "stream",
     "text": [
      "The value of my_name is Sammy\n",
      "The value of your_name is Casey\n"
     ]
    }
   ],
   "source": [
    "def print_values(**kwargs):\n",
    "    for key, value in kwargs.items():\n",
    "        print(\"The value of {} is {}\".format(key, value))\n",
    "\n",
    "print_values(my_name=\"Sammy\", your_name=\"Casey\")"
   ]
  },
  {
   "cell_type": "markdown",
   "metadata": {},
   "source": [
    "# Python Exception Handling - Try, Except and Finally\n",
    "\n",
    "* Python has many built-in exceptions which forces your program to output an error when something in it goes wrong.\n",
    "\n",
    "* When these exceptions occur, it causes the current process to stop and passes it to the calling process until it is handled. If not handled, our program will crash.\n",
    "\n",
    "* In Python, exceptions can be handled using a try statement.\n",
    "\n",
    "* A critical operation which can raise exception is placed inside the try clause and the code that handles exception is written in except clause."
   ]
  },
  {
   "cell_type": "code",
   "execution_count": 32,
   "metadata": {},
   "outputs": [
    {
     "name": "stdout",
     "output_type": "stream",
     "text": [
      "The entry is a\n",
      "Oops! <class 'ValueError'> occured.\n",
      "Next entry.\n",
      "\n",
      "The entry is 0\n",
      "Oops! <class 'ZeroDivisionError'> occured.\n",
      "Next entry.\n",
      "\n",
      "The entry is 2\n",
      "The reciprocal of 2 is 0.5\n"
     ]
    }
   ],
   "source": [
    "# import module sys to get the type of exception\n",
    "import sys\n",
    "\n",
    "randomList = ['a', 0, 2]\n",
    "\n",
    "for entry in randomList:\n",
    "    try:\n",
    "        print(\"The entry is\", entry)\n",
    "        r = 1/int(entry)\n",
    "        break\n",
    "    except:\n",
    "        print(\"Oops!\",sys.exc_info()[0],\"occured.\")\n",
    "        print(\"Next entry.\")\n",
    "        print()\n",
    "print(\"The reciprocal of\",entry,\"is\",r)"
   ]
  },
  {
   "cell_type": "markdown",
   "metadata": {},
   "source": [
    "## Catching Specific Exceptions and raising exceptions\n"
   ]
  },
  {
   "cell_type": "code",
   "execution_count": 33,
   "metadata": {},
   "outputs": [
    {
     "name": "stdout",
     "output_type": "stream",
     "text": [
      "Enter a positive integer: -3\n",
      "That is not a positive number!\n"
     ]
    }
   ],
   "source": [
    "# catching specific exceptions\n",
    "\n",
    "try:\n",
    "   # do something\n",
    "   pass\n",
    "\n",
    "except ValueError:\n",
    "   # handle ValueError exception\n",
    "   pass\n",
    "\n",
    "except (TypeError, ZeroDivisionError):\n",
    "   # handle multiple exceptions\n",
    "   # TypeError and ZeroDivisionError\n",
    "   pass\n",
    "\n",
    "except:\n",
    "   # handle all other exceptions\n",
    "   pass\n",
    "\n",
    "\n",
    "## -----------------------\n",
    "# raising an exception\n",
    "try:\n",
    "     a = int(input(\"Enter a positive integer: \"))\n",
    "     if a <= 0:\n",
    "         raise ValueError(\"That is not a positive number!\")\n",
    "except ValueError as ve:\n",
    "     print(ve)"
   ]
  },
  {
   "cell_type": "markdown",
   "metadata": {},
   "source": [
    "# Python Object Oriented Programming\n",
    "\n",
    "Python is a **multi-paradigm** programming language. Meaning, it supports different programming approach.\n",
    "\n",
    "One of the popular approach to solve a programming problem is by creating objects. This is known as Object-Oriented Programming (OOP).\n",
    "\n",
    "An object has two characteristics:\n",
    "\n",
    "* attributes\n",
    "* behavior\n",
    "\n",
    "In Python, the concept of OOP follows some basic principles:\n",
    "* **inheritance**: A process of using details from a new class without modifying existing class.\n",
    "* **encapsulation**: Hiding the private details of a class from other objects.\n",
    "* **polymorphism**: A concept of using common operation in different ways for different data input.\n"
   ]
  },
  {
   "cell_type": "code",
   "execution_count": 34,
   "metadata": {},
   "outputs": [
    {
     "name": "stdout",
     "output_type": "stream",
     "text": [
      "Blu is a bird\n",
      "Woo is also a bird\n",
      "Blu is 10 years old\n",
      "Woo is 15 years old\n"
     ]
    }
   ],
   "source": [
    "class Parrot:\n",
    "\n",
    "    # class attribute\n",
    "    species = \"bird\"\n",
    "\n",
    "    # instance attribute\n",
    "    def __init__(self, name, age):\n",
    "        self.name = name\n",
    "        self.age = age\n",
    "\n",
    "# instantiate the Parrot class\n",
    "blu = Parrot(\"Blu\", 10)\n",
    "woo = Parrot(\"Woo\", 15)\n",
    "\n",
    "# access the class attributes\n",
    "print(\"Blu is a {}\".format(blu.__class__.species))\n",
    "print(\"Woo is also a {}\".format(woo.__class__.species))\n",
    "\n",
    "# access the instance attributes\n",
    "print(\"{} is {} years old\".format( blu.name, blu.age))\n",
    "print(\"{} is {} years old\".format( woo.name, woo.age))"
   ]
  },
  {
   "cell_type": "markdown",
   "metadata": {},
   "source": [
    "## Inheritance\n",
    "\n",
    "Inheritance is a way of creating new class for using details of existing class without modifying it. The newly formed class is a derived class (or child class). Similarly, the existing class is a base class (or parent class).\n"
   ]
  },
  {
   "cell_type": "code",
   "execution_count": 35,
   "metadata": {},
   "outputs": [
    {
     "name": "stdout",
     "output_type": "stream",
     "text": [
      "Bird is ready\n",
      "Penguin is ready\n",
      "Penguin\n",
      "Swim faster\n",
      "Run faster\n"
     ]
    }
   ],
   "source": [
    "# parent class\n",
    "class Bird:\n",
    "    \n",
    "    def __init__(self):\n",
    "        print(\"Bird is ready\")\n",
    "\n",
    "    def whoisThis(self):\n",
    "        print(\"Bird\")\n",
    "\n",
    "    def swim(self):\n",
    "        print(\"Swim faster\")\n",
    "\n",
    "# child class\n",
    "class Penguin(Bird):\n",
    "\n",
    "    def __init__(self):\n",
    "        # call super() function\n",
    "        super().__init__()\n",
    "        print(\"Penguin is ready\")\n",
    "\n",
    "    def whoisThis(self):\n",
    "        print(\"Penguin\")\n",
    "\n",
    "    def run(self):\n",
    "        print(\"Run faster\")\n",
    "\n",
    "peggy = Penguin()\n",
    "peggy.whoisThis()\n",
    "peggy.swim()\n",
    "peggy.run()"
   ]
  },
  {
   "cell_type": "markdown",
   "metadata": {},
   "source": [
    "## Encapsulation\n",
    "\n",
    "Using OOP in Python, we can restrict access to methods and variables. This prevent data from direct modification which is called encapsulation. In Python, we denote private attribute using underscore as prefix i.e single “ _ “ or double “ __“.\n"
   ]
  },
  {
   "cell_type": "code",
   "execution_count": 36,
   "metadata": {},
   "outputs": [
    {
     "name": "stdout",
     "output_type": "stream",
     "text": [
      "Selling Price: 900\n",
      "Selling Price: 900\n",
      "Selling Price: 1000\n"
     ]
    }
   ],
   "source": [
    "class Computer:\n",
    "\n",
    "    def __init__(self):\n",
    "        self.__maxprice = 900\n",
    "\n",
    "    def sell(self):\n",
    "        print(\"Selling Price: {}\".format(self.__maxprice))\n",
    "\n",
    "    def setMaxPrice(self, price):\n",
    "        self.__maxprice = price\n",
    "\n",
    "c = Computer()\n",
    "c.sell()\n",
    "\n",
    "# change the price\n",
    "c.__maxprice = 1000\n",
    "c.sell()\n",
    "\n",
    "# using setter function\n",
    "c.setMaxPrice(1000)\n",
    "c.sell()"
   ]
  },
  {
   "cell_type": "markdown",
   "metadata": {},
   "source": [
    "## Polymorphism\n",
    "\n",
    "Polymorphism is an ability (in OOP) to use common interface for multiple form (data types).\n",
    "\n",
    "Suppose, we need to color a shape, there are multiple shape option (rectangle, square, circle). However we could use same method to color any shape. This concept is called Polymorphism.\n"
   ]
  },
  {
   "cell_type": "code",
   "execution_count": 39,
   "metadata": {},
   "outputs": [
    {
     "name": "stdout",
     "output_type": "stream",
     "text": [
      "Parrot can fly\n",
      "Penguin can't fly\n"
     ]
    }
   ],
   "source": [
    "class Parrot:\n",
    "\n",
    "    def fly(self):\n",
    "        print(\"Parrot can fly\")\n",
    "    \n",
    "    def swim(self):\n",
    "        print(\"Parrot can't swim\")\n",
    "class Penguin:\n",
    "\n",
    "    def fly(self):\n",
    "        print(\"Penguin can't fly\")\n",
    "    \n",
    "    def swim(self):\n",
    "        print(\"Penguin can swim\")\n",
    "\n",
    "# common interface\n",
    "def flying_test(bird):\n",
    "    bird.fly()\n",
    "\n",
    "#instantiate objects\n",
    "blu = Parrot()\n",
    "peggy = Penguin()\n",
    "\n",
    "# passing the object\n",
    "flying_test(blu)\n",
    "flying_test(peggy)"
   ]
  },
  {
   "cell_type": "markdown",
   "metadata": {},
   "source": [
    "## Lambda Expressions\n",
    "* Small anonymous functions can be created with the lambda keyword. \n",
    "\n",
    "* This function returns the sum of its two arguments: `lambda a, b: a+b`. \n",
    "* Lambda functions can be used wherever function objects are required. \n",
    "* They are syntactically restricted to a single expression. Semantically, they are just syntactic sugar for a normal function definition. \n",
    "* Like nested function definitions, lambda functions can reference variables from the containing scope:"
   ]
  },
  {
   "cell_type": "code",
   "execution_count": 41,
   "metadata": {},
   "outputs": [
    {
     "name": "stdout",
     "output_type": "stream",
     "text": [
      "<function make_incrementor.<locals>.<lambda> at 0x0000020020049510>\n",
      "42\n",
      "43\n",
      "45\n"
     ]
    }
   ],
   "source": [
    "def make_incrementor(n):\n",
    "     return lambda x: x + n\n",
    "\n",
    "f = make_incrementor(42)\n",
    "print(f)\n",
    "print(f(0))\n",
    "print(f(1))\n",
    "print(f(3))"
   ]
  },
  {
   "cell_type": "code",
   "execution_count": 42,
   "metadata": {},
   "outputs": [
    {
     "name": "stdout",
     "output_type": "stream",
     "text": [
      "[4, 6, 8, 12]\n"
     ]
    }
   ],
   "source": [
    "# Program to filter out only the even items from a list\n",
    "# filter(function, iterable) \n",
    "my_list = [1, 5, 4, 6, 8, 11, 3, 12]\n",
    "\n",
    "new_list = list(filter(lambda x: (x%2 == 0) , my_list))\n",
    "\n",
    "# Output: [4, 6, 8, 12]\n",
    "print(new_list)"
   ]
  },
  {
   "cell_type": "code",
   "execution_count": 43,
   "metadata": {},
   "outputs": [
    {
     "name": "stdout",
     "output_type": "stream",
     "text": [
      "['goldenrod', 'purple', 'salmon', 'turquoise', 'cyan']\n",
      "[1, 4, 9, 16, 25]\n"
     ]
    }
   ],
   "source": [
    "'''Map applies a function to all the items in an input_list. Here is the blueprint:'''\n",
    "# syntax:  map(function_to_apply, list_of_inputs)\n",
    "colors = [\"Goldenrod\", \"Purple\", \"Salmon\", \"Turquoise\", \"Cyan\"]\n",
    "print(list(map(lambda s: s.casefold(), colors)))\n",
    "\n",
    "'''another example'''\n",
    "items = [1, 2, 3, 4, 5]\n",
    "squared = list(map(lambda x: x**2, items))\n",
    "print(squared)"
   ]
  },
  {
   "cell_type": "markdown",
   "metadata": {},
   "source": [
    "##  A Quick Introducton to Generators and `yield` keyword in Python\n",
    "\n",
    "* **Generators** allow the programmer to specify that a function can be prematurely exited and then later re-entered at the point of last exit, enabling coroutines, meaning functions that alternate execution with each other. \n",
    "* The exit/re-entry points are marked by Python’s **`yield`** keyword.\n",
    "* Each new call to the function causes a resumption of execution of the function at the point immediately following the last yield executed in that function. \n",
    "* As you will see below, that is exactly what we need for DES.\n",
    "\n",
    "<h2><a id=\"difference\" name=\"difference\"></a>Differences between Generator function and a Normal function</h2>\n",
    "\n",
    "<p>Here is how a generator function differs from a <a href=\"/python-programming/function\" title=\"Python functions\">normal function</a>.</p>\n",
    "\n",
    "<ul>\n",
    "\t<li>Generator function contains one or more <code>yield</code> statement.</li>\n",
    "\t<li>When called, it returns an object (iterator) but does not start execution immediately.</li>\n",
    "\t<li>Methods like <code>__iter__()</code> and <code>__next__()</code> are implemented automatically. So we can iterate through the items using <code>next()</code>.</li>\n",
    "\t<li>Once the function yields, the function is paused and the control is transferred to the caller.</li>\n",
    "\t<li>Local variables and their states are remembered between successive calls.</li>\n",
    "\t<li>Finally, when the function terminates, <code>StopIteration</code> is raised automatically on further calls.</li>\n",
    "</ul>\n"
   ]
  },
  {
   "cell_type": "code",
   "execution_count": 44,
   "metadata": {},
   "outputs": [
    {
     "name": "stdout",
     "output_type": "stream",
     "text": [
      "t =  0\n",
      "now printing generator output\n",
      "g =  <generator object myGenerator at 0x000002001FFECD58>\n",
      "0\n",
      "1\n",
      "2\n",
      "0\n",
      "creating a new generator object\n",
      "0\n",
      "1\n",
      "0\n",
      "1\n"
     ]
    }
   ],
   "source": [
    "def myFunction(n):\n",
    "    for i in range(n):\n",
    "        return i\n",
    "\n",
    "def myGenerator(n):\n",
    "    while True:\n",
    "        for i in range(n):\n",
    "            yield i\n",
    "\n",
    "t = myFunction(3)\n",
    "print('t = ', t)\n",
    "print(\"now printing generator output\")\n",
    "g = myGenerator(3)\n",
    "print('g = ', g)\n",
    "print(g.__next__())\n",
    "print(g.__next__())\n",
    "print(g.__next__())\n",
    "print(g.__next__())\n",
    "print(\"creating a new generator object\")\n",
    "g1 = myGenerator(2)\n",
    "print(g1.__next__())\n",
    "print(g1.__next__())\n",
    "print(g1.__next__())\n",
    "print(g1.__next__())\n"
   ]
  },
  {
   "cell_type": "code",
   "execution_count": 45,
   "metadata": {},
   "outputs": [
    {
     "name": "stdout",
     "output_type": "stream",
     "text": [
      "m\n",
      "a\n",
      "r\n",
      "g\n",
      "o\n",
      "r\n",
      "p\n"
     ]
    }
   ],
   "source": [
    "def reverse(data):\n",
    "    for index in range(len(data)-1, -1, -1):\n",
    "        yield data[index]\n",
    "\n",
    "for char in reverse('program'):\n",
    "     print(char)"
   ]
  },
  {
   "cell_type": "code",
   "execution_count": null,
   "metadata": {},
   "outputs": [],
   "source": []
  }
 ],
 "metadata": {
  "kernelspec": {
   "display_name": "Python 3",
   "language": "python",
   "name": "python3"
  },
  "language_info": {
   "codemirror_mode": {
    "name": "ipython",
    "version": 3
   },
   "file_extension": ".py",
   "mimetype": "text/x-python",
   "name": "python",
   "nbconvert_exporter": "python",
   "pygments_lexer": "ipython3",
   "version": "3.6.5"
  }
 },
 "nbformat": 4,
 "nbformat_minor": 2
}

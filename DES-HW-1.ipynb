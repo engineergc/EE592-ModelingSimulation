{
 "cells": [
  {
   "cell_type": "markdown",
   "metadata": {},
   "source": [
    "# Advanced Modeling and Simulation Course\n",
    "\n",
    "### Instructor: Dr. M. Nedim ALPDEMİR\n",
    "\n",
    "## Discrete Event Simulation Homework\n",
    "\n",
    "## City Buses Maintenance Facility\n",
    "\n",
    "![MaintenanceFacility](MaintenanceFacility.png)\n",
    "\n",
    "* City busses arrive to the maintenance facility with exponential interarrival times with mean 2 hours. \n",
    "* The facility consists of a single inspection station and two identical repair stations; (see Figure above) \n",
    "* Every bus is inspected, and inspection times are distributed uniformly between 15 minutes and 1.05 hours; the inspection station is fed by a single First in First Out (FIFO) queue. \n",
    "* Historically, 30 percent of the busses have been found during inspection to need some repair (i.e. %70 are OK and leave the inspection facility without passing through the repair facility). \n",
    "* The two parallel repair stations are fed by a single FIFO queue, and repairs are distributed uniformly between 2.1 hours and 4.5 hours. \n",
    "\n",
    "## Simulation Experiment\n",
    "\n",
    "1. Develop the Logical Model (Draw the Event Graphs and High level Process Logic)\n",
    "2. Implement the Simulation in SimPy\n",
    "3. Run the simulation for 160 hours and compute: \n",
    "    - the average delay in each queue, \n",
    "    - the average length of each queue, \n",
    "    - the utilization of the inspection station, and \n",
    "    - the utilization of the repair station (defined to be half of the time-average number of busy repair stations, since there ,are twostations). \n",
    "4. Replicate the simulation five times. \n",
    "5. Suppose that the arrival rate of busses is quadrupled, i.e., the mean interarrival time decreased to 30 minutes. Would the facility be able to handle it?\n",
    "\n"
   ]
  },
  {
   "cell_type": "code",
   "execution_count": null,
   "metadata": {},
   "outputs": [],
   "source": []
  }
 ],
 "metadata": {
  "kernelspec": {
   "display_name": "Python 3",
   "language": "python",
   "name": "python3"
  },
  "language_info": {
   "codemirror_mode": {
    "name": "ipython",
    "version": 3
   },
   "file_extension": ".py",
   "mimetype": "text/x-python",
   "name": "python",
   "nbconvert_exporter": "python",
   "pygments_lexer": "ipython3",
   "version": "3.6.5"
  }
 },
 "nbformat": 4,
 "nbformat_minor": 2
}

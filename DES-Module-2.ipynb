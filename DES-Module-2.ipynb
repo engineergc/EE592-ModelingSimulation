{
 "cells": [
  {
   "cell_type": "markdown",
   "metadata": {},
   "source": [
    "\n",
    "# Advanced Modeling and Simulation Course\n",
    "\n",
    "### Instructor: Dr. M. Nedim ALPDEMİR\n",
    "\n",
    "*This material is prepared as part of the EE592-Advanced Modeling And Simulation course given at Yıldırım Beyazıd University (YBÜ).*\n",
    "\n",
    "# Discrete Event Simulation Example - 2\n",
    "\n",
    "## Bank  example\n",
    "\n",
    "### Covers:\n",
    "\n",
    "- Resources: Resource\n",
    "- Condition events\n",
    "\n",
    "### Scenario:\n",
    "\n",
    "  * The bank branch has a counter with a random service time\n",
    "  * customers arrive in random intervals. The distribution used for modeling the cutomer arrivals should be  exponential\n",
    "  * customers give up after waiting some time in the queue. \n",
    "  * The branch manager want to know how many customers quit from the branch in a typical day\n",
    "  \n"
   ]
  },
  {
   "cell_type": "code",
   "execution_count": 29,
   "metadata": {},
   "outputs": [],
   "source": [
    "import random\n",
    "\n",
    "import simpy\n",
    "\n",
    "\n",
    "RANDOM_SEED = 42\n",
    "NEW_CUSTOMERS = 15  # Total number of customers\n",
    "INTERVAL_CUSTOMERS = 2.0  # Generate new customers roughly every x seconds\n",
    "MIN_PATIENCE = 1  # Min. customer patience\n",
    "MAX_PATIENCE = 2  # Max. customer patience\n",
    "\n",
    "\n",
    "def CustomerGenerator(env, number, interval, serv_desk):\n",
    "    \"\"\"This generates customers randomly\"\"\"\n",
    "    for i in range(number):\n",
    "        c = customer(env, 'Customer%02d' % i, serv_desk, time_in_bank=12.0)\n",
    "        env.process(c)\n",
    "        t = random.expovariate(interval)\n",
    "        yield env.timeout(t)\n",
    "\n"
   ]
  },
  {
   "cell_type": "code",
   "execution_count": 30,
   "metadata": {},
   "outputs": [],
   "source": [
    "def customer(env, name, counter, time_in_bank):\n",
    "    \"\"\"Customer arrives, is served and leaves.\"\"\"\n",
    "    arrive = env.now\n",
    "    print('%7.4f %s: Here I am' % (arrive, name))\n",
    "\n",
    "    with counter.request() as req:\n",
    "        patience = random.uniform(MIN_PATIENCE, MAX_PATIENCE)\n",
    "        # Wait for the counter or abort at the end of our tether\n",
    "        results = yield req | env.timeout(patience)\n",
    "\n",
    "        wait = env.now - arrive\n",
    "\n",
    "        if req in results:\n",
    "            # We got to the counter\n",
    "            print('%7.4f %s: Waited %6.3f' % (env.now, name, wait))\n",
    "\n",
    "            tib = random.expovariate(time_in_bank)\n",
    "            yield env.timeout(tib)\n",
    "            print('%7.4f %s: Finished' % (env.now, name))\n",
    "\n",
    "        else:\n",
    "            # We reneged\n",
    "            print('%7.4f %s: Fed Up and LEFT the Bank after %6.3f' % (env.now, name, wait))"
   ]
  },
  {
   "cell_type": "code",
   "execution_count": 31,
   "metadata": {},
   "outputs": [
    {
     "name": "stdout",
     "output_type": "stream",
     "text": [
      "Bank Example\n"
     ]
    }
   ],
   "source": [
    "# Setup and start the simulation\n",
    "print('Bank Example')\n",
    "random.seed(RANDOM_SEED)\n",
    "env = simpy.Environment()\n"
   ]
  },
  {
   "cell_type": "code",
   "execution_count": 28,
   "metadata": {},
   "outputs": [
    {
     "name": "stdout",
     "output_type": "stream",
     "text": [
      " 0.0000 Customer00: Here I am\n",
      " 0.0000 Customer00: Waited  0.000\n",
      " 0.0268 Customer00: Finished\n",
      " 0.2040 Customer01: Here I am\n",
      " 0.2040 Customer01: Waited  0.000\n",
      " 0.2545 Customer02: Here I am\n",
      " 0.2981 Customer01: Finished\n",
      " 0.2981 Customer02: Waited  0.044\n",
      " 0.3438 Customer02: Finished\n",
      " 0.7000 Customer03: Here I am\n",
      " 0.7000 Customer03: Waited  0.000\n",
      " 0.7060 Customer04: Here I am\n",
      " 0.7114 Customer05: Here I am\n",
      " 0.7586 Customer03: Finished\n",
      " 0.7586 Customer04: Waited  0.053\n",
      " 0.7794 Customer04: Finished\n",
      " 0.7794 Customer05: Waited  0.068\n",
      " 0.8535 Customer05: Finished\n",
      " 0.9213 Customer06: Here I am\n",
      " 0.9213 Customer06: Waited  0.000\n",
      " 1.0579 Customer06: Finished\n",
      " 1.2529 Customer07: Here I am\n",
      " 1.2529 Customer07: Waited  0.000\n",
      " 1.2669 Customer07: Finished\n",
      " 1.4924 Customer08: Here I am\n",
      " 1.4924 Customer08: Waited  0.000\n",
      " 1.5005 Customer08: Finished\n",
      " 2.1227 Customer09: Here I am\n",
      " 2.1227 Customer09: Waited  0.000\n",
      " 2.1431 Customer10: Here I am\n",
      " 2.1999 Customer09: Finished\n",
      " 2.1999 Customer10: Waited  0.057\n",
      " 2.2639 Customer10: Finished\n",
      " 2.4722 Customer11: Here I am\n",
      " 2.4722 Customer11: Waited  0.000\n",
      " 2.5391 Customer11: Finished\n",
      " 3.1955 Customer12: Here I am\n",
      " 3.1955 Customer12: Waited  0.000\n",
      " 3.3603 Customer12: Finished\n",
      " 3.5491 Customer13: Here I am\n",
      " 3.5491 Customer13: Waited  0.000\n",
      " 3.5531 Customer13: Finished\n",
      " 3.7214 Customer14: Here I am\n",
      " 3.7214 Customer14: Waited  0.000\n",
      " 3.7283 Customer14: Finished\n"
     ]
    }
   ],
   "source": [
    "# Start processes and run\n",
    "service_desk = simpy.Resource(env, capacity=1)\n",
    "CustList = []\n",
    "env.process(CustomerGenerator(env, NEW_CUSTOMERS, INTERVAL_CUSTOMERS, service_desk))\n",
    "env.run()"
   ]
  },
  {
   "cell_type": "markdown",
   "metadata": {},
   "source": [
    "## How do we collect meaningful statistics\n",
    "\n",
    "### For this example we may want to collect the following statistics\n",
    "\n",
    "* Total number of succesfully processed customers\n",
    "* Number of customers who fed up and left the branch\n",
    "* Average waiting time of the customers who left \n",
    "\n",
    "An elegant way of collecting such statistics is to define an object and pass it through process chain to collect those statistical values\n",
    "\n",
    "The following example illustrates that\n"
   ]
  },
  {
   "cell_type": "code",
   "execution_count": 32,
   "metadata": {},
   "outputs": [],
   "source": [
    "class Statistics:\n",
    "    def __init__(self):\n",
    "        self.no_of_Leaving_cust = 0\n",
    "        self.list_of_leaving_cust = []\n",
    "        self.no_of_processed_cust = 0\n",
    "        self.total_wait_time_of_left_cust = 0\n",
    "\n",
    "def CustomerGenerator(env, number, interval, counter, sim_stats):\n",
    "    \"\"\"This generates customers randomly\"\"\"\n",
    "    for i in range(number):\n",
    "        c = customer(env, 'Customer%02d' % i, counter, time_in_bank=12.0, sim_stats=sim_stats)\n",
    "        env.process(c)\n",
    "        t = random.expovariate(1.0 / interval)\n",
    "        yield env.timeout(t)\n",
    "\n",
    "def customer(env, name, counter, time_in_bank, sim_stats):\n",
    "    \"\"\"Customer arrives, is served and leaves.\"\"\"\n",
    "    arrive = env.now\n",
    "\n",
    "    with counter.request() as req:\n",
    "        patience = random.uniform(MIN_PATIENCE, MAX_PATIENCE)\n",
    "        # Wait for the counter or abort at the end of our tether\n",
    "        results = yield req | env.timeout(patience)\n",
    "        wait = env.now - arrive\n",
    "\n",
    "        if req in results:\n",
    "            # We got to the counter\n",
    "            tib = random.expovariate(1.0 / time_in_bank)\n",
    "            yield env.timeout(tib)\n",
    "            sim_stats.no_of_processed_cust += 1\n",
    "        else:\n",
    "            # We reneged\n",
    "            sim_stats.list_of_leaving_cust.append(name + \"waited : \" + str(wait) + \"and left\")\n",
    "            sim_stats.no_of_Leaving_cust += 1\n",
    "            sim_stats.total_wait_time_of_left_cust += wait\n"
   ]
  },
  {
   "cell_type": "code",
   "execution_count": 10,
   "metadata": {},
   "outputs": [
    {
     "name": "stdout",
     "output_type": "stream",
     "text": [
      "No of processed customer =  91\n",
      "No of custs leaving =  9\n",
      "Avg wait time for custs leaving =  2.0141\n"
     ]
    }
   ],
   "source": [
    "# Start processes and run\n",
    "#random.seed(RANDOM_SEED)\n",
    "NEW_CUSTOMERS = 100  # Total number of customers\n",
    "service_desk = simpy.Resource(env, capacity=3)\n",
    "sim_statistics = Statistics()\n",
    "env.process(CustomerGenerator(env, NEW_CUSTOMERS, INTERVAL_CUSTOMERS, service_desk, sim_statistics))\n",
    "env.run()\n",
    "\n",
    "print (\"No of processed customer = \",sim_statistics.no_of_processed_cust)\n",
    "print (\"No of custs leaving = \",sim_statistics.no_of_Leaving_cust)\n",
    "if (sim_statistics.no_of_Leaving_cust > 0):\n",
    "    avg = sim_statistics.total_wait_time_of_left_cust / sim_statistics.no_of_Leaving_cust\n",
    "    print ('Avg wait time for custs leaving = %7.4f' % avg)\n",
    "else:\n",
    "    print ('No customers left ..  ')\n",
    "    "
   ]
  },
  {
   "cell_type": "code",
   "execution_count": null,
   "metadata": {},
   "outputs": [],
   "source": []
  },
  {
   "cell_type": "code",
   "execution_count": null,
   "metadata": {},
   "outputs": [],
   "source": []
  }
 ],
 "metadata": {
  "kernelspec": {
   "display_name": "Python 3",
   "language": "python",
   "name": "python3"
  },
  "language_info": {
   "codemirror_mode": {
    "name": "ipython",
    "version": 3
   },
   "file_extension": ".py",
   "mimetype": "text/x-python",
   "name": "python",
   "nbconvert_exporter": "python",
   "pygments_lexer": "ipython3",
   "version": "3.6.5"
  }
 },
 "nbformat": 4,
 "nbformat_minor": 2
}
